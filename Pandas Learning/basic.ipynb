{
 "cells": [
  {
   "cell_type": "code",
   "execution_count": 1,
   "metadata": {},
   "outputs": [
    {
     "data": {
      "text/plain": [
       "'\\nnumpy 類似 一個列表\\npandas 類似一個字典 \\n'"
      ]
     },
     "execution_count": 1,
     "metadata": {},
     "output_type": "execute_result"
    }
   ],
   "source": [
    "import numpy as np\n",
    "import pandas as pd\n",
    "'''\n",
    "numpy 類似 一個列表\n",
    "pandas 類似一個字典 \n",
    "'''"
   ]
  },
  {
   "cell_type": "code",
   "execution_count": 6,
   "metadata": {},
   "outputs": [
    {
     "name": "stdout",
     "output_type": "stream",
     "text": [
      "0     1.0\n",
      "1     3.0\n",
      "2     4.0\n",
      "3     NaN\n",
      "4    44.0\n",
      "5     1.0\n",
      "dtype: float64\n"
     ]
    }
   ],
   "source": [
    "s = pd.Series([1,3,4,np.nan,44,1])\n",
    "print(s)"
   ]
  },
  {
   "cell_type": "code",
   "execution_count": 8,
   "metadata": {},
   "outputs": [
    {
     "data": {
      "text/plain": [
       "DatetimeIndex(['2020-03-01', '2020-03-02', '2020-03-03', '2020-03-04',\n",
       "               '2020-03-05', '2020-03-06'],\n",
       "              dtype='datetime64[ns]', freq='D')"
      ]
     },
     "execution_count": 8,
     "metadata": {},
     "output_type": "execute_result"
    }
   ],
   "source": [
    "dates = pd.date_range('20200301',periods = 6)\n",
    "dates"
   ]
  },
  {
   "cell_type": "code",
   "execution_count": 12,
   "metadata": {},
   "outputs": [
    {
     "data": {
      "text/html": [
       "<div>\n",
       "<style scoped>\n",
       "    .dataframe tbody tr th:only-of-type {\n",
       "        vertical-align: middle;\n",
       "    }\n",
       "\n",
       "    .dataframe tbody tr th {\n",
       "        vertical-align: top;\n",
       "    }\n",
       "\n",
       "    .dataframe thead th {\n",
       "        text-align: right;\n",
       "    }\n",
       "</style>\n",
       "<table border=\"1\" class=\"dataframe\">\n",
       "  <thead>\n",
       "    <tr style=\"text-align: right;\">\n",
       "      <th></th>\n",
       "      <th>a</th>\n",
       "      <th>b</th>\n",
       "      <th>c</th>\n",
       "      <th>d</th>\n",
       "    </tr>\n",
       "  </thead>\n",
       "  <tbody>\n",
       "    <tr>\n",
       "      <td>2020-03-01</td>\n",
       "      <td>1.590312</td>\n",
       "      <td>-0.630818</td>\n",
       "      <td>0.871585</td>\n",
       "      <td>-1.797868</td>\n",
       "    </tr>\n",
       "    <tr>\n",
       "      <td>2020-03-02</td>\n",
       "      <td>-0.605495</td>\n",
       "      <td>-0.848096</td>\n",
       "      <td>1.469647</td>\n",
       "      <td>-0.107311</td>\n",
       "    </tr>\n",
       "    <tr>\n",
       "      <td>2020-03-03</td>\n",
       "      <td>-1.037276</td>\n",
       "      <td>1.825318</td>\n",
       "      <td>1.514053</td>\n",
       "      <td>-0.332707</td>\n",
       "    </tr>\n",
       "    <tr>\n",
       "      <td>2020-03-04</td>\n",
       "      <td>0.285238</td>\n",
       "      <td>-0.505235</td>\n",
       "      <td>-1.359509</td>\n",
       "      <td>0.429237</td>\n",
       "    </tr>\n",
       "    <tr>\n",
       "      <td>2020-03-05</td>\n",
       "      <td>0.482423</td>\n",
       "      <td>0.373482</td>\n",
       "      <td>0.079874</td>\n",
       "      <td>-0.338847</td>\n",
       "    </tr>\n",
       "    <tr>\n",
       "      <td>2020-03-06</td>\n",
       "      <td>1.632089</td>\n",
       "      <td>1.109713</td>\n",
       "      <td>-0.251988</td>\n",
       "      <td>-0.989795</td>\n",
       "    </tr>\n",
       "  </tbody>\n",
       "</table>\n",
       "</div>"
      ],
      "text/plain": [
       "                   a         b         c         d\n",
       "2020-03-01  1.590312 -0.630818  0.871585 -1.797868\n",
       "2020-03-02 -0.605495 -0.848096  1.469647 -0.107311\n",
       "2020-03-03 -1.037276  1.825318  1.514053 -0.332707\n",
       "2020-03-04  0.285238 -0.505235 -1.359509  0.429237\n",
       "2020-03-05  0.482423  0.373482  0.079874 -0.338847\n",
       "2020-03-06  1.632089  1.109713 -0.251988 -0.989795"
      ]
     },
     "execution_count": 12,
     "metadata": {},
     "output_type": "execute_result"
    }
   ],
   "source": [
    "df = pd.DataFrame(np.random.randn(6,4),index = dates,columns = ['a','b','c','d'])\n",
    "df"
   ]
  },
  {
   "cell_type": "code",
   "execution_count": 13,
   "metadata": {},
   "outputs": [
    {
     "data": {
      "text/html": [
       "<div>\n",
       "<style scoped>\n",
       "    .dataframe tbody tr th:only-of-type {\n",
       "        vertical-align: middle;\n",
       "    }\n",
       "\n",
       "    .dataframe tbody tr th {\n",
       "        vertical-align: top;\n",
       "    }\n",
       "\n",
       "    .dataframe thead th {\n",
       "        text-align: right;\n",
       "    }\n",
       "</style>\n",
       "<table border=\"1\" class=\"dataframe\">\n",
       "  <thead>\n",
       "    <tr style=\"text-align: right;\">\n",
       "      <th></th>\n",
       "      <th>0</th>\n",
       "      <th>1</th>\n",
       "      <th>2</th>\n",
       "      <th>3</th>\n",
       "    </tr>\n",
       "  </thead>\n",
       "  <tbody>\n",
       "    <tr>\n",
       "      <td>0</td>\n",
       "      <td>0</td>\n",
       "      <td>1</td>\n",
       "      <td>2</td>\n",
       "      <td>3</td>\n",
       "    </tr>\n",
       "    <tr>\n",
       "      <td>1</td>\n",
       "      <td>4</td>\n",
       "      <td>5</td>\n",
       "      <td>6</td>\n",
       "      <td>7</td>\n",
       "    </tr>\n",
       "    <tr>\n",
       "      <td>2</td>\n",
       "      <td>8</td>\n",
       "      <td>9</td>\n",
       "      <td>10</td>\n",
       "      <td>11</td>\n",
       "    </tr>\n",
       "  </tbody>\n",
       "</table>\n",
       "</div>"
      ],
      "text/plain": [
       "   0  1   2   3\n",
       "0  0  1   2   3\n",
       "1  4  5   6   7\n",
       "2  8  9  10  11"
      ]
     },
     "execution_count": 13,
     "metadata": {},
     "output_type": "execute_result"
    }
   ],
   "source": [
    "df_1 = pd.DataFrame(np.arange(12).reshape((3,4)))\n",
    "df_1"
   ]
  },
  {
   "cell_type": "code",
   "execution_count": 14,
   "metadata": {},
   "outputs": [
    {
     "data": {
      "text/plain": [
       "0    int64\n",
       "1    int64\n",
       "2    int64\n",
       "3    int64\n",
       "dtype: object"
      ]
     },
     "execution_count": 14,
     "metadata": {},
     "output_type": "execute_result"
    }
   ],
   "source": [
    "df_1.dtypes"
   ]
  },
  {
   "cell_type": "code",
   "execution_count": 15,
   "metadata": {},
   "outputs": [
    {
     "data": {
      "text/plain": [
       "RangeIndex(start=0, stop=3, step=1)"
      ]
     },
     "execution_count": 15,
     "metadata": {},
     "output_type": "execute_result"
    }
   ],
   "source": [
    "df_1.index"
   ]
  },
  {
   "cell_type": "code",
   "execution_count": 17,
   "metadata": {},
   "outputs": [
    {
     "data": {
      "text/plain": [
       "Index(['a', 'b', 'c', 'd'], dtype='object')"
      ]
     },
     "execution_count": 17,
     "metadata": {},
     "output_type": "execute_result"
    }
   ],
   "source": [
    "df.columns"
   ]
  },
  {
   "cell_type": "code",
   "execution_count": 18,
   "metadata": {},
   "outputs": [
    {
     "data": {
      "text/plain": [
       "array([[ 1.59031198, -0.63081811,  0.87158508, -1.79786785],\n",
       "       [-0.60549464, -0.84809604,  1.46964731, -0.10731062],\n",
       "       [-1.03727574,  1.82531844,  1.51405334, -0.33270722],\n",
       "       [ 0.28523821, -0.50523477, -1.3595091 ,  0.42923717],\n",
       "       [ 0.48242251,  0.37348189,  0.07987375, -0.3388473 ],\n",
       "       [ 1.63208909,  1.10971287, -0.25198759, -0.98979506]])"
      ]
     },
     "execution_count": 18,
     "metadata": {},
     "output_type": "execute_result"
    }
   ],
   "source": [
    "df.values"
   ]
  },
  {
   "cell_type": "code",
   "execution_count": 19,
   "metadata": {},
   "outputs": [
    {
     "data": {
      "text/html": [
       "<div>\n",
       "<style scoped>\n",
       "    .dataframe tbody tr th:only-of-type {\n",
       "        vertical-align: middle;\n",
       "    }\n",
       "\n",
       "    .dataframe tbody tr th {\n",
       "        vertical-align: top;\n",
       "    }\n",
       "\n",
       "    .dataframe thead th {\n",
       "        text-align: right;\n",
       "    }\n",
       "</style>\n",
       "<table border=\"1\" class=\"dataframe\">\n",
       "  <thead>\n",
       "    <tr style=\"text-align: right;\">\n",
       "      <th></th>\n",
       "      <th>a</th>\n",
       "      <th>b</th>\n",
       "      <th>c</th>\n",
       "      <th>d</th>\n",
       "    </tr>\n",
       "  </thead>\n",
       "  <tbody>\n",
       "    <tr>\n",
       "      <td>count</td>\n",
       "      <td>6.000000</td>\n",
       "      <td>6.000000</td>\n",
       "      <td>6.000000</td>\n",
       "      <td>6.000000</td>\n",
       "    </tr>\n",
       "    <tr>\n",
       "      <td>mean</td>\n",
       "      <td>0.391215</td>\n",
       "      <td>0.220727</td>\n",
       "      <td>0.387277</td>\n",
       "      <td>-0.522882</td>\n",
       "    </tr>\n",
       "    <tr>\n",
       "      <td>std</td>\n",
       "      <td>1.098287</td>\n",
       "      <td>1.075442</td>\n",
       "      <td>1.116255</td>\n",
       "      <td>0.773675</td>\n",
       "    </tr>\n",
       "    <tr>\n",
       "      <td>min</td>\n",
       "      <td>-1.037276</td>\n",
       "      <td>-0.848096</td>\n",
       "      <td>-1.359509</td>\n",
       "      <td>-1.797868</td>\n",
       "    </tr>\n",
       "    <tr>\n",
       "      <td>25%</td>\n",
       "      <td>-0.382811</td>\n",
       "      <td>-0.599422</td>\n",
       "      <td>-0.169022</td>\n",
       "      <td>-0.827058</td>\n",
       "    </tr>\n",
       "    <tr>\n",
       "      <td>50%</td>\n",
       "      <td>0.383830</td>\n",
       "      <td>-0.065876</td>\n",
       "      <td>0.475729</td>\n",
       "      <td>-0.335777</td>\n",
       "    </tr>\n",
       "    <tr>\n",
       "      <td>75%</td>\n",
       "      <td>1.313340</td>\n",
       "      <td>0.925655</td>\n",
       "      <td>1.320132</td>\n",
       "      <td>-0.163660</td>\n",
       "    </tr>\n",
       "    <tr>\n",
       "      <td>max</td>\n",
       "      <td>1.632089</td>\n",
       "      <td>1.825318</td>\n",
       "      <td>1.514053</td>\n",
       "      <td>0.429237</td>\n",
       "    </tr>\n",
       "  </tbody>\n",
       "</table>\n",
       "</div>"
      ],
      "text/plain": [
       "              a         b         c         d\n",
       "count  6.000000  6.000000  6.000000  6.000000\n",
       "mean   0.391215  0.220727  0.387277 -0.522882\n",
       "std    1.098287  1.075442  1.116255  0.773675\n",
       "min   -1.037276 -0.848096 -1.359509 -1.797868\n",
       "25%   -0.382811 -0.599422 -0.169022 -0.827058\n",
       "50%    0.383830 -0.065876  0.475729 -0.335777\n",
       "75%    1.313340  0.925655  1.320132 -0.163660\n",
       "max    1.632089  1.825318  1.514053  0.429237"
      ]
     },
     "execution_count": 19,
     "metadata": {},
     "output_type": "execute_result"
    }
   ],
   "source": [
    "df.describe()"
   ]
  },
  {
   "cell_type": "code",
   "execution_count": 20,
   "metadata": {},
   "outputs": [
    {
     "data": {
      "text/html": [
       "<div>\n",
       "<style scoped>\n",
       "    .dataframe tbody tr th:only-of-type {\n",
       "        vertical-align: middle;\n",
       "    }\n",
       "\n",
       "    .dataframe tbody tr th {\n",
       "        vertical-align: top;\n",
       "    }\n",
       "\n",
       "    .dataframe thead th {\n",
       "        text-align: right;\n",
       "    }\n",
       "</style>\n",
       "<table border=\"1\" class=\"dataframe\">\n",
       "  <thead>\n",
       "    <tr style=\"text-align: right;\">\n",
       "      <th></th>\n",
       "      <th>2020-03-01</th>\n",
       "      <th>2020-03-02</th>\n",
       "      <th>2020-03-03</th>\n",
       "      <th>2020-03-04</th>\n",
       "      <th>2020-03-05</th>\n",
       "      <th>2020-03-06</th>\n",
       "    </tr>\n",
       "  </thead>\n",
       "  <tbody>\n",
       "    <tr>\n",
       "      <td>a</td>\n",
       "      <td>1.590312</td>\n",
       "      <td>-0.605495</td>\n",
       "      <td>-1.037276</td>\n",
       "      <td>0.285238</td>\n",
       "      <td>0.482423</td>\n",
       "      <td>1.632089</td>\n",
       "    </tr>\n",
       "    <tr>\n",
       "      <td>b</td>\n",
       "      <td>-0.630818</td>\n",
       "      <td>-0.848096</td>\n",
       "      <td>1.825318</td>\n",
       "      <td>-0.505235</td>\n",
       "      <td>0.373482</td>\n",
       "      <td>1.109713</td>\n",
       "    </tr>\n",
       "    <tr>\n",
       "      <td>c</td>\n",
       "      <td>0.871585</td>\n",
       "      <td>1.469647</td>\n",
       "      <td>1.514053</td>\n",
       "      <td>-1.359509</td>\n",
       "      <td>0.079874</td>\n",
       "      <td>-0.251988</td>\n",
       "    </tr>\n",
       "    <tr>\n",
       "      <td>d</td>\n",
       "      <td>-1.797868</td>\n",
       "      <td>-0.107311</td>\n",
       "      <td>-0.332707</td>\n",
       "      <td>0.429237</td>\n",
       "      <td>-0.338847</td>\n",
       "      <td>-0.989795</td>\n",
       "    </tr>\n",
       "  </tbody>\n",
       "</table>\n",
       "</div>"
      ],
      "text/plain": [
       "   2020-03-01  2020-03-02  2020-03-03  2020-03-04  2020-03-05  2020-03-06\n",
       "a    1.590312   -0.605495   -1.037276    0.285238    0.482423    1.632089\n",
       "b   -0.630818   -0.848096    1.825318   -0.505235    0.373482    1.109713\n",
       "c    0.871585    1.469647    1.514053   -1.359509    0.079874   -0.251988\n",
       "d   -1.797868   -0.107311   -0.332707    0.429237   -0.338847   -0.989795"
      ]
     },
     "execution_count": 20,
     "metadata": {},
     "output_type": "execute_result"
    }
   ],
   "source": [
    "df.T"
   ]
  },
  {
   "cell_type": "code",
   "execution_count": 22,
   "metadata": {},
   "outputs": [
    {
     "data": {
      "text/html": [
       "<div>\n",
       "<style scoped>\n",
       "    .dataframe tbody tr th:only-of-type {\n",
       "        vertical-align: middle;\n",
       "    }\n",
       "\n",
       "    .dataframe tbody tr th {\n",
       "        vertical-align: top;\n",
       "    }\n",
       "\n",
       "    .dataframe thead th {\n",
       "        text-align: right;\n",
       "    }\n",
       "</style>\n",
       "<table border=\"1\" class=\"dataframe\">\n",
       "  <thead>\n",
       "    <tr style=\"text-align: right;\">\n",
       "      <th></th>\n",
       "      <th>a</th>\n",
       "      <th>b</th>\n",
       "      <th>c</th>\n",
       "      <th>d</th>\n",
       "    </tr>\n",
       "  </thead>\n",
       "  <tbody>\n",
       "    <tr>\n",
       "      <td>2020-03-06</td>\n",
       "      <td>1.632089</td>\n",
       "      <td>1.109713</td>\n",
       "      <td>-0.251988</td>\n",
       "      <td>-0.989795</td>\n",
       "    </tr>\n",
       "    <tr>\n",
       "      <td>2020-03-05</td>\n",
       "      <td>0.482423</td>\n",
       "      <td>0.373482</td>\n",
       "      <td>0.079874</td>\n",
       "      <td>-0.338847</td>\n",
       "    </tr>\n",
       "    <tr>\n",
       "      <td>2020-03-04</td>\n",
       "      <td>0.285238</td>\n",
       "      <td>-0.505235</td>\n",
       "      <td>-1.359509</td>\n",
       "      <td>0.429237</td>\n",
       "    </tr>\n",
       "    <tr>\n",
       "      <td>2020-03-03</td>\n",
       "      <td>-1.037276</td>\n",
       "      <td>1.825318</td>\n",
       "      <td>1.514053</td>\n",
       "      <td>-0.332707</td>\n",
       "    </tr>\n",
       "    <tr>\n",
       "      <td>2020-03-02</td>\n",
       "      <td>-0.605495</td>\n",
       "      <td>-0.848096</td>\n",
       "      <td>1.469647</td>\n",
       "      <td>-0.107311</td>\n",
       "    </tr>\n",
       "    <tr>\n",
       "      <td>2020-03-01</td>\n",
       "      <td>1.590312</td>\n",
       "      <td>-0.630818</td>\n",
       "      <td>0.871585</td>\n",
       "      <td>-1.797868</td>\n",
       "    </tr>\n",
       "  </tbody>\n",
       "</table>\n",
       "</div>"
      ],
      "text/plain": [
       "                   a         b         c         d\n",
       "2020-03-06  1.632089  1.109713 -0.251988 -0.989795\n",
       "2020-03-05  0.482423  0.373482  0.079874 -0.338847\n",
       "2020-03-04  0.285238 -0.505235 -1.359509  0.429237\n",
       "2020-03-03 -1.037276  1.825318  1.514053 -0.332707\n",
       "2020-03-02 -0.605495 -0.848096  1.469647 -0.107311\n",
       "2020-03-01  1.590312 -0.630818  0.871585 -1.797868"
      ]
     },
     "execution_count": 22,
     "metadata": {},
     "output_type": "execute_result"
    }
   ],
   "source": [
    "df.sort_index(axis = 0,ascending = False)"
   ]
  },
  {
   "cell_type": "code",
   "execution_count": 24,
   "metadata": {},
   "outputs": [
    {
     "data": {
      "text/html": [
       "<div>\n",
       "<style scoped>\n",
       "    .dataframe tbody tr th:only-of-type {\n",
       "        vertical-align: middle;\n",
       "    }\n",
       "\n",
       "    .dataframe tbody tr th {\n",
       "        vertical-align: top;\n",
       "    }\n",
       "\n",
       "    .dataframe thead th {\n",
       "        text-align: right;\n",
       "    }\n",
       "</style>\n",
       "<table border=\"1\" class=\"dataframe\">\n",
       "  <thead>\n",
       "    <tr style=\"text-align: right;\">\n",
       "      <th></th>\n",
       "      <th>a</th>\n",
       "      <th>b</th>\n",
       "      <th>c</th>\n",
       "      <th>d</th>\n",
       "    </tr>\n",
       "  </thead>\n",
       "  <tbody>\n",
       "    <tr>\n",
       "      <td>2020-03-03</td>\n",
       "      <td>-1.037276</td>\n",
       "      <td>1.825318</td>\n",
       "      <td>1.514053</td>\n",
       "      <td>-0.332707</td>\n",
       "    </tr>\n",
       "    <tr>\n",
       "      <td>2020-03-02</td>\n",
       "      <td>-0.605495</td>\n",
       "      <td>-0.848096</td>\n",
       "      <td>1.469647</td>\n",
       "      <td>-0.107311</td>\n",
       "    </tr>\n",
       "    <tr>\n",
       "      <td>2020-03-04</td>\n",
       "      <td>0.285238</td>\n",
       "      <td>-0.505235</td>\n",
       "      <td>-1.359509</td>\n",
       "      <td>0.429237</td>\n",
       "    </tr>\n",
       "    <tr>\n",
       "      <td>2020-03-05</td>\n",
       "      <td>0.482423</td>\n",
       "      <td>0.373482</td>\n",
       "      <td>0.079874</td>\n",
       "      <td>-0.338847</td>\n",
       "    </tr>\n",
       "    <tr>\n",
       "      <td>2020-03-01</td>\n",
       "      <td>1.590312</td>\n",
       "      <td>-0.630818</td>\n",
       "      <td>0.871585</td>\n",
       "      <td>-1.797868</td>\n",
       "    </tr>\n",
       "    <tr>\n",
       "      <td>2020-03-06</td>\n",
       "      <td>1.632089</td>\n",
       "      <td>1.109713</td>\n",
       "      <td>-0.251988</td>\n",
       "      <td>-0.989795</td>\n",
       "    </tr>\n",
       "  </tbody>\n",
       "</table>\n",
       "</div>"
      ],
      "text/plain": [
       "                   a         b         c         d\n",
       "2020-03-03 -1.037276  1.825318  1.514053 -0.332707\n",
       "2020-03-02 -0.605495 -0.848096  1.469647 -0.107311\n",
       "2020-03-04  0.285238 -0.505235 -1.359509  0.429237\n",
       "2020-03-05  0.482423  0.373482  0.079874 -0.338847\n",
       "2020-03-01  1.590312 -0.630818  0.871585 -1.797868\n",
       "2020-03-06  1.632089  1.109713 -0.251988 -0.989795"
      ]
     },
     "execution_count": 24,
     "metadata": {},
     "output_type": "execute_result"
    }
   ],
   "source": [
    "df.sort_values(by = 'a')"
   ]
  },
  {
   "cell_type": "code",
   "execution_count": null,
   "metadata": {},
   "outputs": [],
   "source": []
  }
 ],
 "metadata": {
  "kernelspec": {
   "display_name": "Python 3",
   "language": "python",
   "name": "python3"
  },
  "language_info": {
   "codemirror_mode": {
    "name": "ipython",
    "version": 3
   },
   "file_extension": ".py",
   "mimetype": "text/x-python",
   "name": "python",
   "nbconvert_exporter": "python",
   "pygments_lexer": "ipython3",
   "version": "3.7.4"
  }
 },
 "nbformat": 4,
 "nbformat_minor": 2
}
