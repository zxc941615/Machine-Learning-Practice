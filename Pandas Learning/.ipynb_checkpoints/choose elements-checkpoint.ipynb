{
 "cells": [
  {
   "cell_type": "code",
   "execution_count": 5,
   "metadata": {},
   "outputs": [],
   "source": [
    "import numpy as np\n",
    "import pandas as pd"
   ]
  },
  {
   "cell_type": "code",
   "execution_count": 24,
   "metadata": {},
   "outputs": [
    {
     "name": "stdout",
     "output_type": "stream",
     "text": [
      "             a   b   c   d\n",
      "2020-03-01   0   1   2   3\n",
      "2020-03-02   4   5   6   7\n",
      "2020-03-03   8   9  10  11\n",
      "2020-03-04  12  13  14  15\n",
      "2020-03-05  16  17  18  19\n",
      "2020-03-06  20  21  22  23\n",
      "\n",
      "2020-03-01     0\n",
      "2020-03-02     4\n",
      "2020-03-03     8\n",
      "2020-03-04    12\n",
      "2020-03-05    16\n",
      "2020-03-06    20\n",
      "Freq: D, Name: a, dtype: int64 \n",
      " 2020-03-01     0\n",
      "2020-03-02     4\n",
      "2020-03-03     8\n",
      "2020-03-04    12\n",
      "2020-03-05    16\n",
      "2020-03-06    20\n",
      "Freq: D, Name: a, dtype: int64\n",
      "\n",
      "            a  b  c  d\n",
      "2020-03-01  0  1  2  3\n",
      "2020-03-02  4  5  6  7 \n",
      "             a  b   c   d\n",
      "2020-03-01  0  1   2   3\n",
      "2020-03-02  4  5   6   7\n",
      "2020-03-03  8  9  10  11\n"
     ]
    }
   ],
   "source": [
    "dates = pd.date_range('20200301',periods = 6)\n",
    "df = pd.DataFrame(np.arange(24).reshape((6,4)),index = dates,columns =['a','b','c','d'])\n",
    "print(df,end = '\\n\\n')\n",
    "print(df['a'],'\\n',df.a,end = '\\n\\n')\n",
    "print(df[0:2],'\\n',df['20200301':'20200303'])"
   ]
  },
  {
   "cell_type": "code",
   "execution_count": 31,
   "metadata": {},
   "outputs": [
    {
     "name": "stdout",
     "output_type": "stream",
     "text": [
      "a     8\n",
      "b     9\n",
      "c    10\n",
      "d    11\n",
      "Name: 2020-03-03 00:00:00, dtype: int64\n",
      "a    8\n",
      "b    9\n",
      "Name: 2020-03-03 00:00:00, dtype: int64\n"
     ]
    }
   ],
   "source": [
    "#select by label :loc\n",
    "print(df.loc['20200303'])\n",
    "print(df.loc['20200303',['a','b']])"
   ]
  },
  {
   "cell_type": "code",
   "execution_count": 38,
   "metadata": {},
   "outputs": [
    {
     "name": "stdout",
     "output_type": "stream",
     "text": [
      "             a   b   c   d\n",
      "2020-03-01   0   1   2   3\n",
      "2020-03-02   4   5   6   7\n",
      "2020-03-03   8   9  10  11\n",
      "2020-03-04  12  13  14  15\n",
      "2020-03-05  16  17  18  19\n",
      "2020-03-06  20  21  22  23\n",
      "\n",
      "a    12\n",
      "b    13\n",
      "c    14\n",
      "d    15\n",
      "Name: 2020-03-04 00:00:00, dtype: int64\n",
      "13\n",
      "            a  b\n",
      "2020-03-02  4  5\n",
      "2020-03-03  8  9\n",
      "             b   c\n",
      "2020-03-02   5   6\n",
      "2020-03-04  13  14\n",
      "2020-03-06  21  22\n"
     ]
    }
   ],
   "source": [
    "#select by position: iloc\n",
    "print(df,end = '\\n\\n')\n",
    "print(df.iloc[3])\n",
    "print(df.iloc[3,1])\n",
    "print(df.iloc[1:3,0:2])\n",
    "print(df.iloc[[1,3,5],1:3])\n"
   ]
  },
  {
   "cell_type": "code",
   "execution_count": 42,
   "metadata": {},
   "outputs": [
    {
     "name": "stdout",
     "output_type": "stream",
     "text": [
      "            a   c\n",
      "2020-03-01  0   2\n",
      "2020-03-02  4   6\n",
      "2020-03-03  8  10\n"
     ]
    },
    {
     "name": "stderr",
     "output_type": "stream",
     "text": [
      "/home/lab/anaconda3/lib/python3.7/site-packages/ipykernel_launcher.py:2: FutureWarning: \n",
      ".ix is deprecated. Please use\n",
      ".loc for label based indexing or\n",
      ".iloc for positional indexing\n",
      "\n",
      "See the documentation here:\n",
      "http://pandas.pydata.org/pandas-docs/stable/user_guide/indexing.html#ix-indexer-is-deprecated\n",
      "  \n"
     ]
    }
   ],
   "source": [
    "#mixed selection: ix\n",
    "print(df.ix[:3,['a','c']])"
   ]
  },
  {
   "cell_type": "code",
   "execution_count": 47,
   "metadata": {},
   "outputs": [
    {
     "name": "stdout",
     "output_type": "stream",
     "text": [
      "             a   b   c   d\n",
      "2020-03-01   0   1   2   3\n",
      "2020-03-02   4   5   6   7\n",
      "2020-03-03   8   9  10  11\n",
      "2020-03-04  12  13  14  15\n",
      "2020-03-05  16  17  18  19\n",
      "2020-03-06  20  21  22  23\n",
      "\n",
      "             a   b   c   d\n",
      "2020-03-04  12  13  14  15\n",
      "2020-03-05  16  17  18  19\n",
      "2020-03-06  20  21  22  23\n"
     ]
    }
   ],
   "source": [
    "#boolean indexing\n",
    "print(df,end = '\\n\\n')\n",
    "print(df[df.a>8])"
   ]
  },
  {
   "cell_type": "code",
   "execution_count": null,
   "metadata": {},
   "outputs": [],
   "source": []
  }
 ],
 "metadata": {
  "kernelspec": {
   "display_name": "Python 3",
   "language": "python",
   "name": "python3"
  },
  "language_info": {
   "codemirror_mode": {
    "name": "ipython",
    "version": 3
   },
   "file_extension": ".py",
   "mimetype": "text/x-python",
   "name": "python",
   "nbconvert_exporter": "python",
   "pygments_lexer": "ipython3",
   "version": "3.7.4"
  }
 },
 "nbformat": 4,
 "nbformat_minor": 2
}
