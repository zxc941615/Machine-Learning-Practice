{
 "cells": [
  {
   "cell_type": "code",
   "execution_count": 1,
   "metadata": {},
   "outputs": [],
   "source": [
    "import numpy as np\n",
    "import pandas as pd"
   ]
  },
  {
   "cell_type": "code",
   "execution_count": 17,
   "metadata": {},
   "outputs": [
    {
     "name": "stdout",
     "output_type": "stream",
     "text": [
      "             a   b   c   d\n",
      "2020-03-01   0   1   2   3\n",
      "2020-03-02   4   5   6   7\n",
      "2020-03-03   8   9  10  11\n",
      "2020-03-04  12  13  14  15\n",
      "2020-03-05  16  17  18  19\n",
      "2020-03-06  20  21  22  23\n"
     ]
    }
   ],
   "source": [
    "dates = pd.date_range('20200301',periods = 6)\n",
    "df = pd.DataFrame(np.arange(24).reshape((6,4)),index = dates,columns = ['a','b','c','d'])\n",
    "print(df)"
   ]
  },
  {
   "cell_type": "code",
   "execution_count": 18,
   "metadata": {},
   "outputs": [
    {
     "name": "stdout",
     "output_type": "stream",
     "text": [
      "             a   b     c   d\n",
      "2020-03-01   0   1     2   3\n",
      "2020-03-02   4   5     6   7\n",
      "2020-03-03   8   9  1111  11\n",
      "2020-03-04  12  13    14  15\n",
      "2020-03-05  16  17    18  19\n",
      "2020-03-06  20  21    22  23\n",
      "             a   b     c   d\n",
      "2020-03-01   0   1     2   3\n",
      "2020-03-02   4   5     6   7\n",
      "2020-03-03   8   9  1111  11\n",
      "2020-03-04  12  13   222  15\n",
      "2020-03-05  16  17    18  19\n",
      "2020-03-06  20  21    22  23\n",
      "            a  b  c  d\n",
      "2020-03-01  0  1  2  3\n",
      "2020-03-02  4  5  6  7\n",
      "2020-03-03  0  0  0  0\n",
      "2020-03-04  0  0  0  0\n",
      "2020-03-05  0  0  0  0\n",
      "2020-03-06  0  0  0  0\n",
      "            a  b  c  d\n",
      "2020-03-01  0  2  2  3\n",
      "2020-03-02  4  2  6  7\n",
      "2020-03-03  0  2  0  0\n",
      "2020-03-04  0  2  0  0\n",
      "2020-03-05  0  2  0  0\n",
      "2020-03-06  0  2  0  0\n"
     ]
    }
   ],
   "source": [
    "df.iloc[2,2] = 1111\n",
    "print(df)\n",
    "df.loc['20200304','c'] = 222\n",
    "print(df)\n",
    "df[df.a>4] = 0\n",
    "print(df)\n",
    "df.b[df.b<6] = 2\n",
    "print(df)"
   ]
  },
  {
   "cell_type": "code",
   "execution_count": 22,
   "metadata": {},
   "outputs": [
    {
     "name": "stdout",
     "output_type": "stream",
     "text": [
      "            a  b  c  d   e\n",
      "2020-03-01  0  2  2  3 NaN\n",
      "2020-03-02  4  2  6  7 NaN\n",
      "2020-03-03  0  2  0  0 NaN\n",
      "2020-03-04  0  2  0  0 NaN\n",
      "2020-03-05  0  2  0  0 NaN\n",
      "2020-03-06  0  2  0  0 NaN\n",
      "            a  b  c  d   e  f\n",
      "2020-03-01  0  2  2  3 NaN  1\n",
      "2020-03-02  4  2  6  7 NaN  2\n",
      "2020-03-03  0  2  0  0 NaN  3\n",
      "2020-03-04  0  2  0  0 NaN  4\n",
      "2020-03-05  0  2  0  0 NaN  5\n",
      "2020-03-06  0  2  0  0 NaN  6\n"
     ]
    }
   ],
   "source": [
    "df['e'] = np.nan\n",
    "print(df)\n",
    "df['f'] = pd.Series([1,2,3,4,5,6],index = pd.date_range('20200301',periods =6))\n",
    "print(df)"
   ]
  },
  {
   "cell_type": "code",
   "execution_count": 23,
   "metadata": {},
   "outputs": [
    {
     "name": "stdout",
     "output_type": "stream",
     "text": [
      "             a   b   c   d\n",
      "2020-03-01   0   1   2   3\n",
      "2020-03-02   4   5   6   7\n",
      "2020-03-03   8   9  10  11\n",
      "2020-03-04  12  13  14  15\n",
      "2020-03-05  16  17  18  19\n",
      "2020-03-06  20  21  22  23\n",
      "             a     b     c   d\n",
      "2020-03-01   0   NaN   2.0   3\n",
      "2020-03-02   4   5.0   NaN   7\n",
      "2020-03-03   8   9.0  10.0  11\n",
      "2020-03-04  12  13.0  14.0  15\n",
      "2020-03-05  16  17.0  18.0  19\n",
      "2020-03-06  20  21.0  22.0  23\n"
     ]
    }
   ],
   "source": [
    "dates = pd.date_range('20200301',periods = 6)\n",
    "df = pd.DataFrame(np.arange(24).reshape((6,4)),index = dates,columns = ['a','b','c','d'])\n",
    "print(df)\n",
    "df.iloc[0,1] = np.nan\n",
    "df.iloc[1,2] = np.nan\n",
    "print(df)"
   ]
  },
  {
   "cell_type": "code",
   "execution_count": 27,
   "metadata": {},
   "outputs": [
    {
     "name": "stdout",
     "output_type": "stream",
     "text": [
      "             a     b     c   d\n",
      "2020-03-03   8   9.0  10.0  11\n",
      "2020-03-04  12  13.0  14.0  15\n",
      "2020-03-05  16  17.0  18.0  19\n",
      "2020-03-06  20  21.0  22.0  23\n"
     ]
    }
   ],
   "source": [
    "print(df.dropna(axis = 0,how = 'any')) # how = {'any,'all'}"
   ]
  },
  {
   "cell_type": "code",
   "execution_count": 28,
   "metadata": {},
   "outputs": [
    {
     "name": "stdout",
     "output_type": "stream",
     "text": [
      "             a     b     c   d\n",
      "2020-03-01   0   0.0   2.0   3\n",
      "2020-03-02   4   5.0   0.0   7\n",
      "2020-03-03   8   9.0  10.0  11\n",
      "2020-03-04  12  13.0  14.0  15\n",
      "2020-03-05  16  17.0  18.0  19\n",
      "2020-03-06  20  21.0  22.0  23\n"
     ]
    }
   ],
   "source": [
    "print(df.fillna(value = 0))"
   ]
  },
  {
   "cell_type": "code",
   "execution_count": 32,
   "metadata": {},
   "outputs": [
    {
     "name": "stdout",
     "output_type": "stream",
     "text": [
      "True\n"
     ]
    }
   ],
   "source": [
    "print(np.any(df.isnull()) == True)"
   ]
  },
  {
   "cell_type": "code",
   "execution_count": null,
   "metadata": {},
   "outputs": [],
   "source": []
  }
 ],
 "metadata": {
  "kernelspec": {
   "display_name": "Python 3",
   "language": "python",
   "name": "python3"
  },
  "language_info": {
   "codemirror_mode": {
    "name": "ipython",
    "version": 3
   },
   "file_extension": ".py",
   "mimetype": "text/x-python",
   "name": "python",
   "nbconvert_exporter": "python",
   "pygments_lexer": "ipython3",
   "version": "3.7.4"
  }
 },
 "nbformat": 4,
 "nbformat_minor": 2
}
