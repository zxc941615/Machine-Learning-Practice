{
 "cells": [
  {
   "cell_type": "code",
   "execution_count": 1,
   "metadata": {},
   "outputs": [],
   "source": [
    "import numpy as np\n",
    "import pandas as pd"
   ]
  },
  {
   "cell_type": "code",
   "execution_count": 2,
   "metadata": {},
   "outputs": [
    {
     "data": {
      "text/plain": [
       "'\\nread_格式  , to_格式\\n\\nread_csv \\nread_excel \\nread_hdf \\nread_sql \\nread_json \\nread_msgpack \\nread_html \\nread_gbq \\nread_stata \\nread_sas \\nread_clipboard \\nread_pickle\\n'"
      ]
     },
     "execution_count": 2,
     "metadata": {},
     "output_type": "execute_result"
    }
   ],
   "source": [
    "'''\n",
    "read_格式  , to_格式\n",
    "\n",
    "read_csv \n",
    "read_excel \n",
    "read_hdf \n",
    "read_sql \n",
    "read_json \n",
    "read_msgpack \n",
    "read_html \n",
    "read_gbq \n",
    "read_stata \n",
    "read_sas \n",
    "read_clipboard \n",
    "read_pickle\n",
    "'''\n"
   ]
  },
  {
   "cell_type": "code",
   "execution_count": null,
   "metadata": {},
   "outputs": [],
   "source": [
    "data = pd.read_csv(file_path)\n",
    "data.to_csv(file_name)"
   ]
  }
 ],
 "metadata": {
  "kernelspec": {
   "display_name": "Python 3",
   "language": "python",
   "name": "python3"
  },
  "language_info": {
   "codemirror_mode": {
    "name": "ipython",
    "version": 3
   },
   "file_extension": ".py",
   "mimetype": "text/x-python",
   "name": "python",
   "nbconvert_exporter": "python",
   "pygments_lexer": "ipython3",
   "version": "3.7.4"
  }
 },
 "nbformat": 4,
 "nbformat_minor": 2
}
