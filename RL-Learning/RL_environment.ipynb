{
 "cells": [
  {
   "cell_type": "code",
   "execution_count": 6,
   "metadata": {},
   "outputs": [],
   "source": [
    "import random"
   ]
  },
  {
   "cell_type": "code",
   "execution_count": 16,
   "metadata": {},
   "outputs": [],
   "source": [
    "class Environment:\n",
    "    #inital environment \n",
    "    def __init__(self):\n",
    "        self.steps_left = 10\n",
    "    #將環境的觀察結果回傳給agent , 環境類別\n",
    "    def get_observation(self):\n",
    "        return [0.0,0.0,0.0]\n",
    "    \n",
    "    #agent 查詢 action 集合\n",
    "    def get_actions(self):\n",
    "        return [0,1]\n",
    "    \n",
    "    #是否結束\n",
    "    def is_done(self):\n",
    "        return self.steps_left == 0\n",
    "    \n",
    "    #處理agent 的行動  ,回傳 reward    \n",
    "    def action(self,action):\n",
    "        if self.is_done():\n",
    "            print(\"game is over\")\n",
    "        self.steps_left -= 1\n",
    "        return random.random()"
   ]
  },
  {
   "cell_type": "code",
   "execution_count": 17,
   "metadata": {},
   "outputs": [],
   "source": [
    "class Agent:\n",
    "    \n",
    "    \n",
    "    \n",
    "    \n",
    "    # inital total reward\n",
    "    def __init__(self):\n",
    "        self.total_reward = 0.0\n",
    "    \n",
    "    \n",
    "    \n",
    "    #input : environment\n",
    "    # 觀察環境\n",
    "    # 採取行動\n",
    "    # 將行動傳給 環境\n",
    "    # 取得reward\n",
    "    \n",
    "    def step(self , env):\n",
    "        current_obs = env.get_observation()\n",
    "        actions = env.get_actions()\n",
    "        reward = env.action(random.choice(actions))\n",
    "        self.total_reward += reward"
   ]
  },
  {
   "cell_type": "code",
   "execution_count": 21,
   "metadata": {},
   "outputs": [
    {
     "name": "stdout",
     "output_type": "stream",
     "text": [
      "Total reward:3.4760\n"
     ]
    }
   ],
   "source": [
    "env = Environment()\n",
    "agent = Agent()\n",
    "    \n",
    "while( not env.is_done() ):\n",
    "    agent.step(env)\n",
    "    \n",
    "print(\"Total reward:%.4f\"%agent.total_reward)"
   ]
  },
  {
   "cell_type": "code",
   "execution_count": null,
   "metadata": {},
   "outputs": [],
   "source": []
  },
  {
   "cell_type": "code",
   "execution_count": null,
   "metadata": {},
   "outputs": [],
   "source": []
  }
 ],
 "metadata": {
  "kernelspec": {
   "display_name": "Python 3",
   "language": "python",
   "name": "python3"
  },
  "language_info": {
   "codemirror_mode": {
    "name": "ipython",
    "version": 3
   },
   "file_extension": ".py",
   "mimetype": "text/x-python",
   "name": "python",
   "nbconvert_exporter": "python",
   "pygments_lexer": "ipython3",
   "version": "3.6.10"
  }
 },
 "nbformat": 4,
 "nbformat_minor": 4
}
