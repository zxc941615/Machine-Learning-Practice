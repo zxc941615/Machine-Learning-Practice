{
 "cells": [
  {
   "cell_type": "code",
   "execution_count": 1,
   "metadata": {},
   "outputs": [],
   "source": [
    "import numpy as np"
   ]
  },
  {
   "cell_type": "code",
   "execution_count": 2,
   "metadata": {},
   "outputs": [
    {
     "name": "stdout",
     "output_type": "stream",
     "text": [
      "[[1 2 3]\n",
      " [2 3 4]]\n"
     ]
    }
   ],
   "source": [
    "# list to numpy\n",
    "array = np.array([[1,2,3],\n",
    "                  [2,3,4]])\n",
    "print(array)"
   ]
  },
  {
   "cell_type": "code",
   "execution_count": 6,
   "metadata": {},
   "outputs": [
    {
     "name": "stdout",
     "output_type": "stream",
     "text": [
      "number of dim: 2\n",
      "shape: (2, 3)\n",
      "size: 6\n"
     ]
    }
   ],
   "source": [
    "# 基礎numpy屬性\n",
    "print('number of dim:',array.ndim)\n",
    "print('shape:',array.shape)\n",
    "print('size:',array.size)"
   ]
  },
  {
   "cell_type": "code",
   "execution_count": 19,
   "metadata": {},
   "outputs": [
    {
     "name": "stdout",
     "output_type": "stream",
     "text": [
      "int64\n",
      "[[1 2 3]\n",
      " [2 3 4]]\n"
     ]
    }
   ],
   "source": [
    "#Numpy 創建 \n",
    "a = np.array([[1,2,3],\n",
    "              [2,3,4]],dtype = np.int)  #指定data type\n",
    "print(a.dtype)\n",
    "print(a)"
   ]
  },
  {
   "cell_type": "code",
   "execution_count": 30,
   "metadata": {},
   "outputs": [
    {
     "name": "stdout",
     "output_type": "stream",
     "text": [
      "[[0 0 0 0]\n",
      " [0 0 0 0]\n",
      " [0 0 0 0]]\n",
      "[[0. 0. 0. 0.]\n",
      " [0. 0. 0. 0.]\n",
      " [0. 0. 0. 0.]]\n",
      "[[10 12]\n",
      " [14 16]]\n",
      "[[ 1.          1.47368421  1.94736842  2.42105263  2.89473684]\n",
      " [ 3.36842105  3.84210526  4.31578947  4.78947368  5.26315789]\n",
      " [ 5.73684211  6.21052632  6.68421053  7.15789474  7.63157895]\n",
      " [ 8.10526316  8.57894737  9.05263158  9.52631579 10.        ]]\n"
     ]
    }
   ],
   "source": [
    "a = np.zeros((3,4),dtype = np.int16)   #零矩陣 (row , col)\n",
    "print(a)\n",
    "\n",
    "a = np.empty((3,4),dtype = np.float)   #為非常接近0的矩陣\n",
    "print(a)\n",
    "\n",
    "a = np.arange(10,18,2).reshape((2,2))  # arange(start,end,skip) , reshape((row,col))\n",
    "print(a)\n",
    "\n",
    "a = np.linspace(1,10,20).reshape(4,5)  #linspace 線段,(start,end, 幾段）\n",
    "print(a)"
   ]
  },
  {
   "cell_type": "code",
   "execution_count": null,
   "metadata": {},
   "outputs": [],
   "source": []
  }
 ],
 "metadata": {
  "kernelspec": {
   "display_name": "Python 3",
   "language": "python",
   "name": "python3"
  },
  "language_info": {
   "codemirror_mode": {
    "name": "ipython",
    "version": 3
   },
   "file_extension": ".py",
   "mimetype": "text/x-python",
   "name": "python",
   "nbconvert_exporter": "python",
   "pygments_lexer": "ipython3",
   "version": "3.7.4"
  }
 },
 "nbformat": 4,
 "nbformat_minor": 2
}
