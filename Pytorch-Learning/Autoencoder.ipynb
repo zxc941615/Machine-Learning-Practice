{
 "cells": [
  {
   "cell_type": "code",
   "execution_count": 1,
   "metadata": {},
   "outputs": [],
   "source": [
    "import pandas as pd\n",
    "import numpy as np\n",
    "import torch\n",
    "import torch.utils.data as Data\n",
    "from torch.autograd import Variable\n",
    "from sklearn import preprocessing\n",
    "min_max_scaler = preprocessing.MinMaxScaler() # define min max scaler"
   ]
  },
  {
   "cell_type": "code",
   "execution_count": 2,
   "metadata": {},
   "outputs": [],
   "source": [
    "# read file\n",
    "stock_path = \"C:/Users/acer/Desktop/LAB/lab_2.csv\"\n",
    "stock_df = pd.read_csv(stock_path)\n",
    "stock_df=stock_df.fillna(0)"
   ]
  },
  {
   "cell_type": "code",
   "execution_count": 3,
   "metadata": {},
   "outputs": [
    {
     "name": "stdout",
     "output_type": "stream",
     "text": [
      "(2200, 12)\n",
      "(238, 12)\n"
     ]
    }
   ],
   "source": [
    "train_set = stock_df[:2200]\n",
    "test_set = stock_df[2200:]\n",
    "print(train_set.shape)\n",
    "print(test_set.shape)"
   ]
  },
  {
   "cell_type": "code",
   "execution_count": 4,
   "metadata": {},
   "outputs": [
    {
     "data": {
      "text/html": [
       "<div>\n",
       "<style scoped>\n",
       "    .dataframe tbody tr th:only-of-type {\n",
       "        vertical-align: middle;\n",
       "    }\n",
       "\n",
       "    .dataframe tbody tr th {\n",
       "        vertical-align: top;\n",
       "    }\n",
       "\n",
       "    .dataframe thead th {\n",
       "        text-align: right;\n",
       "    }\n",
       "</style>\n",
       "<table border=\"1\" class=\"dataframe\">\n",
       "  <thead>\n",
       "    <tr style=\"text-align: right;\">\n",
       "      <th></th>\n",
       "      <th>K value</th>\n",
       "      <th>D value</th>\n",
       "      <th>MACD</th>\n",
       "      <th>William</th>\n",
       "      <th>SMA</th>\n",
       "      <th>WMA</th>\n",
       "      <th>Momentum</th>\n",
       "      <th>RSI</th>\n",
       "      <th>A/D 0</th>\n",
       "      <th>CCI</th>\n",
       "      <th>Close r/f</th>\n",
       "    </tr>\n",
       "  </thead>\n",
       "  <tbody>\n",
       "    <tr>\n",
       "      <th>count</th>\n",
       "      <td>2200.000000</td>\n",
       "      <td>2200.000000</td>\n",
       "      <td>2200.000000</td>\n",
       "      <td>2200.000000</td>\n",
       "      <td>2200.000000</td>\n",
       "      <td>2200.000000</td>\n",
       "      <td>2200.000000</td>\n",
       "      <td>2200.000000</td>\n",
       "      <td>2200.000000</td>\n",
       "      <td>2200.000000</td>\n",
       "      <td>2200.000000</td>\n",
       "    </tr>\n",
       "    <tr>\n",
       "      <th>mean</th>\n",
       "      <td>0.478459</td>\n",
       "      <td>0.494744</td>\n",
       "      <td>0.515782</td>\n",
       "      <td>0.515950</td>\n",
       "      <td>0.425581</td>\n",
       "      <td>0.426475</td>\n",
       "      <td>0.464374</td>\n",
       "      <td>0.492458</td>\n",
       "      <td>0.445859</td>\n",
       "      <td>0.463808</td>\n",
       "      <td>1.000000</td>\n",
       "    </tr>\n",
       "    <tr>\n",
       "      <th>std</th>\n",
       "      <td>0.242761</td>\n",
       "      <td>0.231248</td>\n",
       "      <td>0.128572</td>\n",
       "      <td>0.292113</td>\n",
       "      <td>0.297391</td>\n",
       "      <td>0.296803</td>\n",
       "      <td>0.101128</td>\n",
       "      <td>0.251304</td>\n",
       "      <td>0.278231</td>\n",
       "      <td>0.159410</td>\n",
       "      <td>0.964113</td>\n",
       "    </tr>\n",
       "    <tr>\n",
       "      <th>min</th>\n",
       "      <td>0.004943</td>\n",
       "      <td>0.000000</td>\n",
       "      <td>0.000000</td>\n",
       "      <td>0.000000</td>\n",
       "      <td>0.000000</td>\n",
       "      <td>0.000000</td>\n",
       "      <td>0.000000</td>\n",
       "      <td>0.000000</td>\n",
       "      <td>0.000000</td>\n",
       "      <td>0.000000</td>\n",
       "      <td>0.000000</td>\n",
       "    </tr>\n",
       "    <tr>\n",
       "      <th>25%</th>\n",
       "      <td>0.272646</td>\n",
       "      <td>0.306148</td>\n",
       "      <td>0.453617</td>\n",
       "      <td>0.258398</td>\n",
       "      <td>0.180373</td>\n",
       "      <td>0.181665</td>\n",
       "      <td>0.419330</td>\n",
       "      <td>0.292431</td>\n",
       "      <td>0.208334</td>\n",
       "      <td>0.351748</td>\n",
       "      <td>0.000000</td>\n",
       "    </tr>\n",
       "    <tr>\n",
       "      <th>50%</th>\n",
       "      <td>0.469031</td>\n",
       "      <td>0.482729</td>\n",
       "      <td>0.512733</td>\n",
       "      <td>0.520003</td>\n",
       "      <td>0.364709</td>\n",
       "      <td>0.364416</td>\n",
       "      <td>0.461561</td>\n",
       "      <td>0.500000</td>\n",
       "      <td>0.415185</td>\n",
       "      <td>0.467025</td>\n",
       "      <td>1.000000</td>\n",
       "    </tr>\n",
       "    <tr>\n",
       "      <th>75%</th>\n",
       "      <td>0.691137</td>\n",
       "      <td>0.682273</td>\n",
       "      <td>0.585561</td>\n",
       "      <td>0.777773</td>\n",
       "      <td>0.712705</td>\n",
       "      <td>0.712135</td>\n",
       "      <td>0.514771</td>\n",
       "      <td>0.687486</td>\n",
       "      <td>0.687456</td>\n",
       "      <td>0.572115</td>\n",
       "      <td>2.000000</td>\n",
       "    </tr>\n",
       "    <tr>\n",
       "      <th>max</th>\n",
       "      <td>1.000000</td>\n",
       "      <td>1.000000</td>\n",
       "      <td>1.000000</td>\n",
       "      <td>1.000000</td>\n",
       "      <td>1.000000</td>\n",
       "      <td>1.000000</td>\n",
       "      <td>1.000000</td>\n",
       "      <td>1.000000</td>\n",
       "      <td>1.000000</td>\n",
       "      <td>1.000000</td>\n",
       "      <td>2.000000</td>\n",
       "    </tr>\n",
       "  </tbody>\n",
       "</table>\n",
       "</div>"
      ],
      "text/plain": [
       "          K value       D value         MACD      William          SMA  \\\n",
       "count  2200.000000  2200.000000  2200.000000  2200.000000  2200.000000   \n",
       "mean      0.478459     0.494744     0.515782     0.515950     0.425581   \n",
       "std       0.242761     0.231248     0.128572     0.292113     0.297391   \n",
       "min       0.004943     0.000000     0.000000     0.000000     0.000000   \n",
       "25%       0.272646     0.306148     0.453617     0.258398     0.180373   \n",
       "50%       0.469031     0.482729     0.512733     0.520003     0.364709   \n",
       "75%       0.691137     0.682273     0.585561     0.777773     0.712705   \n",
       "max       1.000000     1.000000     1.000000     1.000000     1.000000   \n",
       "\n",
       "               WMA     Momentum          RSI        A/D 0          CCI  \\\n",
       "count  2200.000000  2200.000000  2200.000000  2200.000000  2200.000000   \n",
       "mean      0.426475     0.464374     0.492458     0.445859     0.463808   \n",
       "std       0.296803     0.101128     0.251304     0.278231     0.159410   \n",
       "min       0.000000     0.000000     0.000000     0.000000     0.000000   \n",
       "25%       0.181665     0.419330     0.292431     0.208334     0.351748   \n",
       "50%       0.364416     0.461561     0.500000     0.415185     0.467025   \n",
       "75%       0.712135     0.514771     0.687486     0.687456     0.572115   \n",
       "max       1.000000     1.000000     1.000000     1.000000     1.000000   \n",
       "\n",
       "         Close r/f  \n",
       "count  2200.000000  \n",
       "mean      1.000000  \n",
       "std       0.964113  \n",
       "min       0.000000  \n",
       "25%       0.000000  \n",
       "50%       1.000000  \n",
       "75%       2.000000  \n",
       "max       2.000000  "
      ]
     },
     "execution_count": 4,
     "metadata": {},
     "output_type": "execute_result"
    }
   ],
   "source": [
    "# every features in range(0 , 1)\n",
    "train_set.describe()"
   ]
  },
  {
   "cell_type": "code",
   "execution_count": 5,
   "metadata": {},
   "outputs": [
    {
     "name": "stdout",
     "output_type": "stream",
     "text": [
      "Train set Rise: 46.4545\n",
      "Train set Flat: 7.0909\n",
      "Train set Fall: 46.4545\n",
      "Test set Rise: 49.5798\n",
      "Test set Flat: 2.5210\n",
      "Test set Fall: 47.8992\n"
     ]
    }
   ],
   "source": [
    "# print the number of rise , flat , fall data\n",
    "print(\"Train set Rise: %.4f\"%(len(train_set[train_set[\"Close r/f\"] == 2])*100 / len(train_set)))\n",
    "print(\"Train set Flat: %.4f\"%(len(train_set[train_set[\"Close r/f\"] == 1])*100 / len(train_set)))\n",
    "print(\"Train set Fall: %.4f\"%(len(train_set[train_set[\"Close r/f\"] == 0])*100 / len(train_set)))\n",
    "print(\"Test set Rise: %.4f\"%(len(test_set[test_set[\"Close r/f\"] == 2])*100 / len(test_set)))\n",
    "print(\"Test set Flat: %.4f\"%(len(test_set[test_set[\"Close r/f\"] == 1])*100 / len(test_set)))\n",
    "print(\"Test set Fall: %.4f\"%(len(test_set[test_set[\"Close r/f\"] == 0])*100 / len(test_set)))\n"
   ]
  },
  {
   "cell_type": "code",
   "execution_count": 6,
   "metadata": {},
   "outputs": [
    {
     "data": {
      "text/plain": [
       "torch.Size([2170, 30, 10])"
      ]
     },
     "execution_count": 6,
     "metadata": {},
     "output_type": "execute_result"
    }
   ],
   "source": [
    "# declear training features data\n",
    "features = []\n",
    "for i in range(30,len(train_set)):\n",
    "    x = train_set[i-30:i][[\"K value \",\"D value\",\"William\",\"MACD\",\"SMA\",\"WMA\",\"Momentum\",\"RSI\",\"A/D 0\",\"CCI\"]].values\n",
    "    features.append(x.tolist())\n",
    "features = torch.FloatTensor(features)\n",
    "features.size()"
   ]
  },
  {
   "cell_type": "code",
   "execution_count": 7,
   "metadata": {},
   "outputs": [
    {
     "data": {
      "text/plain": [
       "torch.Size([2170])"
      ]
     },
     "execution_count": 7,
     "metadata": {},
     "output_type": "execute_result"
    }
   ],
   "source": [
    "# declear trainging labels data\n",
    "labels = []\n",
    "for i in range(31,len(train_set)+1):\n",
    "    x = train_set[i-1:i][\"Close r/f\"]\n",
    "    labels.append(x.tolist())\n",
    "labels = torch.LongTensor(labels).view(-1)\n",
    "labels.size()"
   ]
  },
  {
   "cell_type": "code",
   "execution_count": 8,
   "metadata": {},
   "outputs": [],
   "source": [
    "#hy parameter\n",
    "torch.manual_seed(1)\n",
    "EPOCH = 10\n",
    "BATCH_SIZE = 64\n",
    "TIME_STEP = 30\n",
    "INPUT_SIZE = 10\n",
    "LR = 0.001"
   ]
  },
  {
   "cell_type": "code",
   "execution_count": 9,
   "metadata": {},
   "outputs": [],
   "source": [
    "\n",
    "#Mini-Batch\n",
    "\n",
    "torch_dataset = Data.TensorDataset(features,labels)\n",
    "train_loader = Data.DataLoader(\n",
    "    dataset = torch_dataset,\n",
    "    batch_size = BATCH_SIZE,\n",
    "    num_workers = 2,\n",
    "    shuffle=True,\n",
    ")"
   ]
  },
  {
   "cell_type": "code",
   "execution_count": 10,
   "metadata": {},
   "outputs": [],
   "source": [
    "class autoencoder(torch.nn.Module):\n",
    "    def __init__(self):\n",
    "        super(autoencoder, self).__init__()\n",
    "        self.encoder = torch.nn.Sequential(\n",
    "             torch.nn.Linear(TIME_STEP * INPUT_SIZE, 64),\n",
    "            torch.nn.ReLU(True),\n",
    "            torch.nn.Linear(64, 12), \n",
    "            torch.nn.ReLU(True), \n",
    "            torch.nn.Linear(12, 3))\n",
    "        self.decoder = torch.nn.Sequential(\n",
    "            torch.nn.Linear(3, 12),\n",
    "            torch.nn.ReLU(True),\n",
    "            torch.nn.Linear(12, 64),\n",
    "            torch.nn.ReLU(True), \n",
    "            torch.nn.Linear(64, TIME_STEP * INPUT_SIZE), \n",
    "            torch.nn.Tanh())\n",
    "\n",
    "    def forward(self, x):\n",
    "        encoder = self.encoder(x)\n",
    "        decoder = self.decoder(encoder)\n",
    "        return encoder,decoder"
   ]
  },
  {
   "cell_type": "code",
   "execution_count": 11,
   "metadata": {},
   "outputs": [
    {
     "name": "stdout",
     "output_type": "stream",
     "text": [
      "autoencoder(\n",
      "  (encoder): Sequential(\n",
      "    (0): Linear(in_features=300, out_features=64, bias=True)\n",
      "    (1): ReLU(inplace=True)\n",
      "    (2): Linear(in_features=64, out_features=12, bias=True)\n",
      "    (3): ReLU(inplace=True)\n",
      "    (4): Linear(in_features=12, out_features=3, bias=True)\n",
      "  )\n",
      "  (decoder): Sequential(\n",
      "    (0): Linear(in_features=3, out_features=12, bias=True)\n",
      "    (1): ReLU(inplace=True)\n",
      "    (2): Linear(in_features=12, out_features=64, bias=True)\n",
      "    (3): ReLU(inplace=True)\n",
      "    (4): Linear(in_features=64, out_features=300, bias=True)\n",
      "    (5): Tanh()\n",
      "  )\n",
      ")\n"
     ]
    }
   ],
   "source": [
    "model = autoencoder()\n",
    "print(model)"
   ]
  },
  {
   "cell_type": "code",
   "execution_count": 12,
   "metadata": {},
   "outputs": [],
   "source": [
    "# define optimizer and loss function \n",
    "optimizer = torch.optim.Adam(model.parameters(), lr=LR,weight_decay=0.0005)\n",
    "# adject learning rate . when loss don't fall , lr = lr * factor  , min lr = 0.0001\n",
    "#scheduler = torch.optim.lr_scheduler.ReduceLROnPlateau(optimizer,factor = 0.9,min_lr=0.0001)\n",
    "# crossentroy loss \n",
    "loss_func = torch.nn.MSELoss()"
   ]
  },
  {
   "cell_type": "code",
   "execution_count": 13,
   "metadata": {},
   "outputs": [],
   "source": [
    "\n",
    "#delcear testing features and labels\n",
    "\n",
    "test_features = []\n",
    "for i in range(30,len(test_set)):\n",
    "    x = test_set[i-30:i][[\"K value \",\"D value\",\"William\",\"MACD\",\"SMA\",\"WMA\",\"Momentum\",\"RSI\",\"A/D 0\",\"CCI\"]].values\n",
    "    test_features.append(x.tolist())\n",
    "test_features = torch.FloatTensor(test_features)\n",
    "test_labels = []\n",
    "for i in range(31,len(test_set)+1):\n",
    "    x = test_set[i-1:i][\"Close r/f\"]\n",
    "    test_labels.append(x.tolist())\n",
    "test_labels = torch.FloatTensor(test_labels).view(-1)"
   ]
  },
  {
   "cell_type": "code",
   "execution_count": 14,
   "metadata": {
    "scrolled": true
   },
   "outputs": [
    {
     "name": "stdout",
     "output_type": "stream",
     "text": [
      "Epoch:    1|steps:   10|Train Avg Loss: 0.2610 |Test Loss: 0.207577\n",
      "Epoch:    1|steps:   20|Train Avg Loss: 0.2040 |Test Loss: 0.151431\n",
      "Epoch:    1|steps:   30|Train Avg Loss: 0.1419 |Test Loss: 0.084279\n",
      "Epoch:    2|steps:   10|Train Avg Loss: 0.0726 |Test Loss: 0.049082\n",
      "Epoch:    2|steps:   20|Train Avg Loss: 0.0614 |Test Loss: 0.042721\n",
      "Epoch:    2|steps:   30|Train Avg Loss: 0.0571 |Test Loss: 0.041195\n",
      "Epoch:    3|steps:   10|Train Avg Loss: 0.0551 |Test Loss: 0.041090\n",
      "Epoch:    3|steps:   20|Train Avg Loss: 0.0571 |Test Loss: 0.040880\n",
      "Epoch:    3|steps:   30|Train Avg Loss: 0.0557 |Test Loss: 0.040825\n",
      "Epoch:    4|steps:   10|Train Avg Loss: 0.0551 |Test Loss: 0.040797\n",
      "Epoch:    4|steps:   20|Train Avg Loss: 0.0565 |Test Loss: 0.040781\n",
      "Epoch:    4|steps:   30|Train Avg Loss: 0.0544 |Test Loss: 0.040727\n",
      "Epoch:    5|steps:   10|Train Avg Loss: 0.0549 |Test Loss: 0.040693\n",
      "Epoch:    5|steps:   20|Train Avg Loss: 0.0547 |Test Loss: 0.040699\n",
      "Epoch:    5|steps:   30|Train Avg Loss: 0.0547 |Test Loss: 0.040834\n",
      "Epoch:    6|steps:   10|Train Avg Loss: 0.0552 |Test Loss: 0.040808\n",
      "Epoch:    6|steps:   20|Train Avg Loss: 0.0534 |Test Loss: 0.040826\n",
      "Epoch:    6|steps:   30|Train Avg Loss: 0.0533 |Test Loss: 0.042402\n",
      "Epoch:    7|steps:   10|Train Avg Loss: 0.0536 |Test Loss: 0.040741\n",
      "Epoch:    7|steps:   20|Train Avg Loss: 0.0533 |Test Loss: 0.041834\n",
      "Epoch:    7|steps:   30|Train Avg Loss: 0.0533 |Test Loss: 0.041261\n",
      "Epoch:    8|steps:   10|Train Avg Loss: 0.0529 |Test Loss: 0.040705\n",
      "Epoch:    8|steps:   20|Train Avg Loss: 0.0527 |Test Loss: 0.042421\n",
      "Epoch:    8|steps:   30|Train Avg Loss: 0.0511 |Test Loss: 0.041378\n",
      "Epoch:    9|steps:   10|Train Avg Loss: 0.0506 |Test Loss: 0.043140\n",
      "Epoch:    9|steps:   20|Train Avg Loss: 0.0502 |Test Loss: 0.043217\n",
      "Epoch:    9|steps:   30|Train Avg Loss: 0.0512 |Test Loss: 0.043261\n",
      "Epoch:   10|steps:   10|Train Avg Loss: 0.0492 |Test Loss: 0.040947\n",
      "Epoch:   10|steps:   20|Train Avg Loss: 0.0494 |Test Loss: 0.042768\n",
      "Epoch:   10|steps:   30|Train Avg Loss: 0.0481 |Test Loss: 0.040568\n"
     ]
    }
   ],
   "source": [
    "'''\n",
    "Training \n",
    "'''\n",
    "LOSS = []\n",
    "TEST_LOSS = []\n",
    "for epoch in range(EPOCH):\n",
    "    loss_total = 0\n",
    "    for step,(inputs,targets) in enumerate(train_loader):\n",
    "        inputs = inputs.view(-1,TIME_STEP * INPUT_SIZE)\n",
    "        #reshape the features to (batch,time_step*input_size)\n",
    "        inputs_n = inputs.view(-1,TIME_STEP * INPUT_SIZE)\n",
    "       \n",
    "    \n",
    "        inputs_n =  inputs_n + torch.randn(TIME_STEP * INPUT_SIZE)\n",
    "        # Clip the images to be between 0 and 1\n",
    "        inputs_n = np.clip( inputs_n, 0., 1.)\n",
    "\n",
    "        \n",
    "        # start trainnig \n",
    "        _,output = model(inputs_n)\n",
    "        # calculate loss  (cross entroy)\n",
    "        loss = loss_func(output,inputs)\n",
    "        # clear the gradients of all optimized variables(from last training)\n",
    "        optimizer.zero_grad()\n",
    "        \n",
    "        # back propagation\n",
    "        loss.backward()\n",
    "        optimizer.step()\n",
    "        # sum of loss\n",
    "        loss_total = loss_total + loss\n",
    "        \n",
    "        # print training info every 10 steps\n",
    "        if((step+1) %10 == 0):\n",
    "            # average of loss in 10 steps\n",
    "            avg = loss_total / 10\n",
    "            LOSS.append(avg.tolist())\n",
    "            \n",
    "            # test data\n",
    "            test_features = torch.Tensor(test_features).view(-1,30*10)\n",
    "            _,out = model(test_features)\n",
    "            \n",
    "            test_loss = loss_func(out,test_features)\n",
    "            TEST_LOSS.append(test_loss.tolist())\n",
    "            # print the epoch , steps , average loss , accuracy \n",
    "            print(\"Epoch: %4d|steps: %4d|Train Avg Loss: %.4f |Test Loss: %4f\"\n",
    "                  %(epoch+1,step+1,avg,test_loss))\n",
    "            \n",
    "            # inital variable\n",
    "            loss_total = 0\n",
    "    # updata learning rate\n",
    "    #scheduler.step(loss)\n",
    "        \n"
   ]
  },
  {
   "cell_type": "code",
   "execution_count": 15,
   "metadata": {},
   "outputs": [],
   "source": [
    "import matplotlib.pyplot as plt"
   ]
  },
  {
   "cell_type": "code",
   "execution_count": 16,
   "metadata": {},
   "outputs": [
    {
     "data": {
      "image/png": "[encoded data removed]",
      "text/plain": [
       "<Figure size 432x288 with 1 Axes>"
      ]
     },
     "metadata": {
      "needs_background": "light"
     },
     "output_type": "display_data"
    }
   ],
   "source": [
    "x = np.linspace(1,30,30)\n",
    "y = np.array(LOSS)\n",
    "plt.plot(x,y)\n",
    "y = np.array(TEST_LOSS)\n",
    "plt.plot(x,y)\n",
    "plt.title(\"DAE Loss\")\n",
    "plt.xlabel(\"EPOCH\")\n",
    "plt.ylabel(\"LOSS\")\n",
    "plt.show()"
   ]
  },
  {
   "cell_type": "code",
   "execution_count": 17,
   "metadata": {},
   "outputs": [],
   "source": [
    "features = features.view(-1,TIME_STEP*INPUT_SIZE)\n",
    "en_features,de_features = model(features)\n"
   ]
  },
  {
   "cell_type": "code",
   "execution_count": 18,
   "metadata": {},
   "outputs": [
    {
     "name": "stdout",
     "output_type": "stream",
     "text": [
      "tensor([[0.2764, 0.2203, 0.5556,  ..., 0.2500, 0.5000, 0.5966],\n",
      "        [0.1141, 0.1559, 0.8290,  ..., 0.5439, 0.2084, 0.4440],\n",
      "        [0.1465, 0.2494, 0.9643,  ..., 0.9412, 0.1429, 0.1975],\n",
      "        ...,\n",
      "        [0.8497, 0.8721, 0.0769,  ..., 0.4444, 0.8571, 0.5215],\n",
      "        [0.6793, 0.6162, 0.3548,  ..., 0.7308, 0.1429, 0.2995],\n",
      "        [0.2268, 0.3103, 0.7000,  ..., 0.7083, 0.2813, 0.4525]])\n"
     ]
    }
   ],
   "source": [
    "print(inputs)"
   ]
  },
  {
   "cell_type": "code",
   "execution_count": 19,
   "metadata": {},
   "outputs": [
    {
     "name": "stdout",
     "output_type": "stream",
     "text": [
      "tensor([[1.0000, 0.0000, 1.0000,  ..., 0.0000, 0.0000, 0.4928],\n",
      "        [1.0000, 0.0000, 1.0000,  ..., 0.0000, 0.0000, 0.3402],\n",
      "        [1.0000, 0.0000, 1.0000,  ..., 0.3196, 0.0000, 0.0937],\n",
      "        ...,\n",
      "        [1.0000, 0.5529, 0.6971,  ..., 0.0000, 0.0000, 0.4178],\n",
      "        [1.0000, 0.2970, 0.9750,  ..., 0.1092, 0.0000, 0.1957],\n",
      "        [1.0000, 0.0000, 1.0000,  ..., 0.0868, 0.0000, 0.3487]])\n"
     ]
    }
   ],
   "source": [
    "print(inputs_n)"
   ]
  },
  {
   "cell_type": "code",
   "execution_count": 20,
   "metadata": {},
   "outputs": [
    {
     "name": "stdout",
     "output_type": "stream",
     "text": [
      "tensor([[0.4764, 0.5008, 0.5407,  ..., 0.5106, 0.4221, 0.4603],\n",
      "        [0.4181, 0.4387, 0.4974,  ..., 0.4499, 0.4027, 0.4212],\n",
      "        [0.4135, 0.4338, 0.4941,  ..., 0.4452, 0.4012, 0.4182],\n",
      "        ...,\n",
      "        [0.4857, 0.5106, 0.5475,  ..., 0.5201, 0.4253, 0.4666],\n",
      "        [0.4796, 0.5042, 0.5434,  ..., 0.5141, 0.4234, 0.4626],\n",
      "        [0.4890, 0.5141, 0.5498,  ..., 0.5233, 0.4263, 0.4688]],\n",
      "       grad_fn=<TanhBackward>)\n"
     ]
    }
   ],
   "source": [
    "print(output)"
   ]
  },
  {
   "cell_type": "code",
   "execution_count": 21,
   "metadata": {
    "scrolled": true
   },
   "outputs": [
    {
     "data": {
      "text/plain": [
       "torch.Size([2170, 300])"
      ]
     },
     "execution_count": 21,
     "metadata": {},
     "output_type": "execute_result"
    }
   ],
   "source": [
    "de_features.size()"
   ]
  },
  {
   "cell_type": "code",
   "execution_count": null,
   "metadata": {},
   "outputs": [],
   "source": []
  }
 ],
 "metadata": {
  "kernelspec": {
   "display_name": "Python 3",
   "language": "python",
   "name": "python3"
  },
  "language_info": {
   "codemirror_mode": {
    "name": "ipython",
    "version": 3
   },
   "file_extension": ".py",
   "mimetype": "text/x-python",
   "name": "python",
   "nbconvert_exporter": "python",
   "pygments_lexer": "ipython3",
   "version": "3.6.10"
  }
 },
 "nbformat": 4,
 "nbformat_minor": 4
}
