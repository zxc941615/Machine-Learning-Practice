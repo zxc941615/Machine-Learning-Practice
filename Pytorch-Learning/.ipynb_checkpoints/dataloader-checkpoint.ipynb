{
 "cells": [
  {
   "cell_type": "code",
   "execution_count": 7,
   "metadata": {},
   "outputs": [],
   "source": [
    "import torch\n",
    "import torch.nn.functional as F\n",
    "from torch.autograd import Variable\n",
    "import matplotlib.pyplot as plt\n",
    "import torch.utils.data as Data"
   ]
  },
  {
   "cell_type": "code",
   "execution_count": 8,
   "metadata": {},
   "outputs": [],
   "source": [
    "BATCH_SIZE = 5"
   ]
  },
  {
   "cell_type": "code",
   "execution_count": 15,
   "metadata": {},
   "outputs": [
    {
     "name": "stdout",
     "output_type": "stream",
     "text": [
      "EPOCH:  0 | step:  0 |batch x:  [9. 5. 3. 2. 6.] |batch_y:  [2. 6. 8. 9. 5.]\n",
      "EPOCH:  0 | step:  1 |batch x:  [ 7.  1. 10.  4.  8.] |batch_y:  [ 4. 10.  1.  7.  3.]\n",
      "EPOCH:  1 | step:  0 |batch x:  [9. 7. 8. 3. 6.] |batch_y:  [2. 4. 3. 8. 5.]\n",
      "EPOCH:  1 | step:  1 |batch x:  [ 4.  5. 10.  1.  2.] |batch_y:  [ 7.  6.  1. 10.  9.]\n",
      "EPOCH:  2 | step:  0 |batch x:  [2. 3. 8. 9. 6.] |batch_y:  [9. 8. 3. 2. 5.]\n",
      "EPOCH:  2 | step:  1 |batch x:  [ 4.  1.  5. 10.  7.] |batch_y:  [ 7. 10.  6.  1.  4.]\n"
     ]
    }
   ],
   "source": [
    "x = torch.linspace(1,10,10)\n",
    "y = torch.linspace(10,1,10)\n",
    "torch_dataset = Data.TensorDataset( x , y)\n",
    "loader = Data.DataLoader(\n",
    "    dataset = torch_dataset,\n",
    "    batch_size = BATCH_SIZE,\n",
    "    shuffle = 'True',\n",
    "    num_workers = 2\n",
    "    )\n",
    "\n",
    "for epoch in range(3):\n",
    "    for step,(batch_x,batch_y) in enumerate(loader):\n",
    "        #training\n",
    "        print('EPOCH: ',epoch,'| step: ' , step,'|batch x: ',batch_x.numpy(),'|batch_y: ',batch_y.numpy())"
   ]
  },
  {
   "cell_type": "code",
   "execution_count": null,
   "metadata": {},
   "outputs": [],
   "source": []
  }
 ],
 "metadata": {
  "kernelspec": {
   "display_name": "Python 3",
   "language": "python",
   "name": "python3"
  },
  "language_info": {
   "codemirror_mode": {
    "name": "ipython",
    "version": 3
   },
   "file_extension": ".py",
   "mimetype": "text/x-python",
   "name": "python",
   "nbconvert_exporter": "python",
   "pygments_lexer": "ipython3",
   "version": "3.7.4"
  }
 },
 "nbformat": 4,
 "nbformat_minor": 2
}
