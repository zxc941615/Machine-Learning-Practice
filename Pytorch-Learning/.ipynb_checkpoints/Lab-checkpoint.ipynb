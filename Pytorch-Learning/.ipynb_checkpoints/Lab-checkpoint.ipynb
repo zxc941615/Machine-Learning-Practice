{
 "cells": [
  {
   "cell_type": "code",
   "execution_count": null,
   "metadata": {},
   "outputs": [],
   "source": [
    "import numpy as np\n",
    "import pandas as pd"
   ]
  },
  {
   "cell_type": "code",
   "execution_count": null,
   "metadata": {},
   "outputs": [],
   "source": [
    "stock_path = \"/home/lab/Downloads/3450.csv\"\n",
    "index_path = \"/home/lab/Downloads/TW.csv\""
   ]
  },
  {
   "cell_type": "code",
   "execution_count": null,
   "metadata": {},
   "outputs": [],
   "source": [
    "stock_df = pd.read_csv(stock_path)\n",
    "stock_df"
   ]
  },
  {
   "cell_type": "code",
   "execution_count": null,
   "metadata": {},
   "outputs": [],
   "source": [
    "index_df = pd.read_csv(index_path)\n",
    "index_df"
   ]
  },
  {
   "cell_type": "code",
   "execution_count": null,
   "metadata": {},
   "outputs": [],
   "source": [
    "stock_df[1:2][\"Close\"].values"
   ]
  },
  {
   "cell_type": "code",
   "execution_count": null,
   "metadata": {},
   "outputs": [],
   "source": [
    "rate = [0]\n",
    "\n",
    "for i in range(1,2451,1):\n",
    "    diff = (stock_df[i:i+1][\"Close\"].values - stock_df[i-1:i][\"Close\"].values)/stock_df[i-1:i][\"Close\"].values\n",
    "    rate.extend(diff)"
   ]
  },
  {
   "cell_type": "code",
   "execution_count": null,
   "metadata": {},
   "outputs": [],
   "source": [
    "rate = np.array(rate)*100\n",
    "rate = rate.tolist()"
   ]
  },
  {
   "cell_type": "code",
   "execution_count": null,
   "metadata": {},
   "outputs": [],
   "source": [
    "stock_df[\"Change(%)\"] = rate\n",
    "stock_df"
   ]
  },
  {
   "cell_type": "code",
   "execution_count": null,
   "metadata": {},
   "outputs": [],
   "source": [
    "rate = [0]\n",
    "\n",
    "for i in range(1,2451,1):\n",
    "    diff = (index_df[i:i+1][\"Close\"].values - index_df[i-1:i][\"Close\"].values)/index_df[i-1:i][\"Close\"].values\n",
    "    rate.extend(diff)"
   ]
  },
  {
   "cell_type": "code",
   "execution_count": null,
   "metadata": {},
   "outputs": [],
   "source": [
    "rate = np.array(rate)*100\n",
    "rate = rate.tolist()"
   ]
  },
  {
   "cell_type": "code",
   "execution_count": null,
   "metadata": {},
   "outputs": [],
   "source": [
    "index_df[\"Change(%)\"] = rate\n",
    "index_df"
   ]
  },
  {
   "cell_type": "code",
   "execution_count": null,
   "metadata": {},
   "outputs": [],
   "source": [
    "beta_7D = [0,0,0,0,0,0,0]\n",
    "for i in range(8,2452):\n",
    "    cov = stock_df[i-7:i][\"Change(%)\"].cov(index_df[i-7:i][\"Change(%)\"])\n",
    "    var = index_df[i-7:i][\"Change(%)\"].var()\n",
    "    beta = cov/var\n",
    "    beta_7D.append(beta)"
   ]
  },
  {
   "cell_type": "code",
   "execution_count": null,
   "metadata": {},
   "outputs": [],
   "source": [
    "len(beta_7D)"
   ]
  },
  {
   "cell_type": "code",
   "execution_count": null,
   "metadata": {},
   "outputs": [],
   "source": [
    "stock_df[\"market_Change(%)\"] = index_df[:][\"Change(%)\"]\n",
    "stock_df[\"Beta_7D\"] = beta_7D"
   ]
  },
  {
   "cell_type": "code",
   "execution_count": null,
   "metadata": {},
   "outputs": [],
   "source": [
    "stock_df"
   ]
  },
  {
   "cell_type": "code",
   "execution_count": null,
   "metadata": {},
   "outputs": [],
   "source": [
    "beta_30D = []\n",
    "for i in range(0,30):\n",
    "    beta_30D.append(0)\n",
    "for i in range(31,2452):\n",
    "    cov = stock_df[i-30:i][\"Change(%)\"].cov(index_df[i-30:i][\"Change(%)\"])\n",
    "    var = index_df[i-30:i][\"Change(%)\"].var()\n",
    "    beta = cov/var\n",
    "    beta_30D.append(beta)"
   ]
  },
  {
   "cell_type": "code",
   "execution_count": null,
   "metadata": {},
   "outputs": [],
   "source": [
    "stock_df[\"Beta_30D\"] = beta_30D"
   ]
  },
  {
   "cell_type": "code",
   "execution_count": null,
   "metadata": {},
   "outputs": [],
   "source": [
    "stock_df"
   ]
  },
  {
   "cell_type": "code",
   "execution_count": null,
   "metadata": {},
   "outputs": [],
   "source": [
    "K_value = [0,0,0,0,0,0,0,50.0]\n",
    "D_value = [0,0,0,0,0,0,0,50.0]\n",
    "for i in range(9,2452):\n",
    "    rsv = (stock_df[i-1:i][\"Close\"].values - stock_df[i-9:i][\"Low\"].min())*100/(stock_df[i-9:i][\"High\"].max()-stock_df[i-9:i][\"Low\"].min())\n",
    "    k = (np.array(K_value[i-2:i-1])*(2.0/3.0)) + float(rsv)/3.0\n",
    "    K_value.extend(k.tolist())\n",
    "    d = (np.array(D_value[i-2:i-1])*(2.0/3.0)) + np.array(K_value[i-1:i])/3.0\n",
    "    D_value.extend(d.tolist())\n",
    "    print(\"Day\",i,\" : K = \",k,\" D = \",d,\" RSV = \",rsv)"
   ]
  },
  {
   "cell_type": "code",
   "execution_count": null,
   "metadata": {},
   "outputs": [],
   "source": [
    "stock_df[2420:2430]                "
   ]
  },
  {
   "cell_type": "code",
   "execution_count": null,
   "metadata": {},
   "outputs": [],
   "source": [
    "stock_df[\"K value\"] = K_value\n",
    "stock_df[\"D value\"] = D_value"
   ]
  },
  {
   "cell_type": "code",
   "execution_count": null,
   "metadata": {},
   "outputs": [],
   "source": [
    "import matplotlib.pyplot as plt"
   ]
  },
  {
   "cell_type": "code",
   "execution_count": null,
   "metadata": {},
   "outputs": [],
   "source": [
    "x_value = stock_df[1970:2000][\"Date\"].values\n",
    "change_value = stock_df[1970:2000][\"Change(%)\"].values\n",
    "M_change_value = stock_df[1970:2000][\"market_Change(%)\"].values\n",
    "beta_7_value = stock_df[1970:2000][\"Beta_7D\"].values\n",
    "beta_30_value = stock_df[1970:2000][\"Beta_30D\"].values"
   ]
  },
  {
   "cell_type": "code",
   "execution_count": null,
   "metadata": {},
   "outputs": [],
   "source": [
    "plt.plot(x_value,change_value, color='red', linewidth=1.0)\n",
    "plt.plot(x_value,M_change_value, color='blue', linewidth=1.0)\n",
    "plt.plot(x_value,beta_7_value, color='orange', linewidth=1.0)\n",
    "plt.grid(b=True, which='major', color='#666666', linestyle='-')\n",
    "plt.minorticks_on()\n",
    "plt.grid(b=True, which='minor', color='#999999', linestyle='-', alpha=0.2)\n",
    "plt.figure\n",
    "plt.show()\n"
   ]
  },
  {
   "cell_type": "code",
   "execution_count": null,
   "metadata": {},
   "outputs": [],
   "source": [
    "stock_df"
   ]
  },
  {
   "cell_type": "code",
   "execution_count": null,
   "metadata": {},
   "outputs": [],
   "source": [
    "'''\n",
    "EMA = EMA(t-1) + a * (Price(today) - EMA(t-1)),  a = 2/ N +1\n",
    "SHORT TERM :EMA 12 , LONG TERM :EMA 26\n",
    "DIF = EMA12- EMA26\n",
    "MACD = EMA(DIF,9)\n",
    "'''"
   ]
  },
  {
   "cell_type": "code",
   "execution_count": null,
   "metadata": {},
   "outputs": [],
   "source": [
    "def EMA(info,N):\n",
    "    alpha = 2/(N+1)\n",
    "    sma = 0.0\n",
    "    for i in range(N):\n",
    "        sma = sma + stock_df[i:i+1][\"Close\"].values\n",
    "    EMA = [float(sma)/N]\n",
    "    for i in range(1,2451,1):\n",
    "        ema = EMA[i-1] + alpha * (stock_df[i:i+1][\"Close\"].values -EMA[i-1])\n",
    "        EMA.extend(ema)\n",
    "    return EMA"
   ]
  },
  {
   "cell_type": "code",
   "execution_count": null,
   "metadata": {},
   "outputs": [],
   "source": [
    "def EMA_D(info,N):\n",
    "    alpha = 2/(N+1)\n",
    "    sma = 0.0\n",
    "    for i in range(N):\n",
    "        sma = sma + stock_df[i:i+1][\"DIF\"].values\n",
    "    EMA = [float(sma)/N]\n",
    "    for i in range(1,2451,1):\n",
    "        ema = EMA[i-1] + alpha * (stock_df[i:i+1][\"DIF\"].values -EMA[i-1])\n",
    "        EMA.extend(ema)\n",
    "    return EMA"
   ]
  },
  {
   "cell_type": "code",
   "execution_count": null,
   "metadata": {},
   "outputs": [],
   "source": [
    "EMA12 = EMA(stock_df[:][\"Close\"].values,12)\n",
    "EMA26 = EMA(stock_df[:][\"Close\"].values,26)\n",
    "stock_df[\"EMA 12\"] = EMA12\n",
    "stock_df[\"EMA 26\"] = EMA26"
   ]
  },
  {
   "cell_type": "code",
   "execution_count": null,
   "metadata": {},
   "outputs": [],
   "source": [
    "DIF = np.array(EMA12) - np.array(EMA26)\n",
    "stock_df[\"DIF\"] = DIF\n",
    "MACD = EMA_D(DIF,9)\n",
    "stock_df[\"MACD\"] = MACD"
   ]
  },
  {
   "cell_type": "code",
   "execution_count": null,
   "metadata": {},
   "outputs": [],
   "source": [
    "stock_df"
   ]
  },
  {
   "cell_type": "code",
   "execution_count": null,
   "metadata": {},
   "outputs": [],
   "source": [
    "MACD_value = stock_df[1970:2000][\"MACD\"].values\n",
    "plt.plot(x_value,change_value, color='red', linewidth=1.0)\n",
    "plt.plot(x_value,MACD_value, color='orange', linewidth=1.0)\n",
    "plt.grid(b=True, which='major', color='#666666', linestyle='-')\n",
    "plt.minorticks_on()\n",
    "plt.grid(b=True, which='minor', color='#999999', linestyle='-', alpha=0.2)\n",
    "plt.figure\n",
    "plt.show()\n"
   ]
  },
  {
   "cell_type": "code",
   "execution_count": null,
   "metadata": {
    "scrolled": true
   },
   "outputs": [],
   "source": [
    "print(DIF)\n",
    "print(x_value)\n",
    "plt.bar(x_value,DIF[1970:2000]-MACD[1970:2000])\n",
    "plt.show()"
   ]
  },
  {
   "cell_type": "code",
   "execution_count": null,
   "metadata": {},
   "outputs": [],
   "source": [
    "stock_df.to_csv(\"3450Inf\",index = False)"
   ]
  },
  {
   "cell_type": "code",
   "execution_count": null,
   "metadata": {},
   "outputs": [],
   "source": [
    "stock_df[1000:1009][[\"Date\",\"Close\",\"K \"]]"
   ]
  },
  {
   "cell_type": "code",
   "execution_count": null,
   "metadata": {},
   "outputs": [],
   "source": []
  }
 ],
 "metadata": {
  "kernelspec": {
   "display_name": "Python 3",
   "language": "python",
   "name": "python3"
  },
  "language_info": {
   "codemirror_mode": {
    "name": "ipython",
    "version": 3
   },
   "file_extension": ".py",
   "mimetype": "text/x-python",
   "name": "python",
   "nbconvert_exporter": "python",
   "pygments_lexer": "ipython3",
   "version": "3.7.4"
  }
 },
 "nbformat": 4,
 "nbformat_minor": 2
}
