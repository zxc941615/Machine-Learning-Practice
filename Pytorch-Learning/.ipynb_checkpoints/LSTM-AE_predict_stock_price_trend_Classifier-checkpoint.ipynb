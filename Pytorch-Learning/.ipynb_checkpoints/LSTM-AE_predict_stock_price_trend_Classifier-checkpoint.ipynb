{
 "cells": [
  {
   "cell_type": "code",
   "execution_count": null,
   "metadata": {},
   "outputs": [],
   "source": [
    "import pandas as pd\n",
    "import numpy as np\n",
    "import torch\n",
    "import torch.utils.data as Data\n",
    "import matplotlib.pyplot as plt\n",
    "from torch.autograd import Variable\n",
    "from sklearn.preprocessing import MinMaxScaler"
   ]
  },
  {
   "cell_type": "code",
   "execution_count": null,
   "metadata": {},
   "outputs": [],
   "source": [
    "# read file\n",
    "stock_path = \"C:/Users/acer/Desktop/LAB/lab2_2.csv\"\n",
    "stock_df = pd.read_csv(stock_path)"
   ]
  },
  {
   "cell_type": "code",
   "execution_count": null,
   "metadata": {},
   "outputs": [],
   "source": [
    "stock_df = stock_df[[\"Date\",\"Open\",\"Close\",\"K\",\"D\",\"SMA\",\"EMA\",\"K(%)\",\"D(%)\",\"SMA(%)\",\"EMA(%)\",\"RISE\"]]"
   ]
  },
  {
   "cell_type": "code",
   "execution_count": null,
   "metadata": {},
   "outputs": [],
   "source": [
    "#scaler= MinMaxScaler(feature_range = (0,1))"
   ]
  },
  {
   "cell_type": "code",
   "execution_count": null,
   "metadata": {},
   "outputs": [],
   "source": [
    "#minmax_df = scaler.fit_transform(stock_df[[\"Open\",\"Close\"]].values)"
   ]
  },
  {
   "cell_type": "code",
   "execution_count": null,
   "metadata": {},
   "outputs": [],
   "source": [
    "#print(minmax_df)"
   ]
  },
  {
   "cell_type": "code",
   "execution_count": null,
   "metadata": {},
   "outputs": [],
   "source": [
    "'''\n",
    "temp = scaler.fit_transform(stock_df[[\"K\",\"D\"]].values)\n",
    "minmax_df = np.concatenate((minmax_df,temp),axis = 1)\n",
    "temp = scaler.fit_transform(stock_df[[\"SMA\"]].values)\n",
    "minmax_df = np.concatenate((minmax_df,temp),axis = 1)\n",
    "'''"
   ]
  },
  {
   "cell_type": "code",
   "execution_count": null,
   "metadata": {},
   "outputs": [],
   "source": [
    "stock_df['Date'] = pd.to_datetime(stock_df['Date'], format=\"%Y/%m/%d\")"
   ]
  },
  {
   "cell_type": "code",
   "execution_count": null,
   "metadata": {},
   "outputs": [],
   "source": []
  },
  {
   "cell_type": "code",
   "execution_count": null,
   "metadata": {},
   "outputs": [],
   "source": []
  },
  {
   "cell_type": "code",
   "execution_count": 9,
   "metadata": {},
   "outputs": [],
   "source": [
    "#minmax_df = pd.DataFrame(minmax_df,columns = [\"Open\",\"Close\",\"K\",\"D\",\"SMA\"],index = stock_df[\"Date\"].values)"
   ]
  },
  {
   "cell_type": "code",
   "execution_count": 10,
   "metadata": {},
   "outputs": [],
   "source": [
    "#minmax_df[\"RISE\"] = stock_df[\"RISE\"].values"
   ]
  },
  {
   "cell_type": "code",
   "execution_count": 11,
   "metadata": {},
   "outputs": [
    {
     "data": {
      "text/html": [
       "<div>\n",
       "<style scoped>\n",
       "    .dataframe tbody tr th:only-of-type {\n",
       "        vertical-align: middle;\n",
       "    }\n",
       "\n",
       "    .dataframe tbody tr th {\n",
       "        vertical-align: top;\n",
       "    }\n",
       "\n",
       "    .dataframe thead th {\n",
       "        text-align: right;\n",
       "    }\n",
       "</style>\n",
       "<table border=\"1\" class=\"dataframe\">\n",
       "  <thead>\n",
       "    <tr style=\"text-align: right;\">\n",
       "      <th></th>\n",
       "      <th>Open</th>\n",
       "      <th>Close</th>\n",
       "      <th>K</th>\n",
       "      <th>D</th>\n",
       "      <th>SMA</th>\n",
       "      <th>RISE</th>\n",
       "    </tr>\n",
       "  </thead>\n",
       "  <tbody>\n",
       "    <tr>\n",
       "      <th>2010-01-12</th>\n",
       "      <td>0.100986</td>\n",
       "      <td>0.104448</td>\n",
       "      <td>1.000000</td>\n",
       "      <td>1.000000</td>\n",
       "      <td>0.079908</td>\n",
       "      <td>1</td>\n",
       "    </tr>\n",
       "    <tr>\n",
       "      <th>2010-01-13</th>\n",
       "      <td>0.098616</td>\n",
       "      <td>0.121857</td>\n",
       "      <td>0.676145</td>\n",
       "      <td>0.836476</td>\n",
       "      <td>0.085422</td>\n",
       "      <td>1</td>\n",
       "    </tr>\n",
       "    <tr>\n",
       "      <th>2010-01-14</th>\n",
       "      <td>0.125166</td>\n",
       "      <td>0.140716</td>\n",
       "      <td>0.460241</td>\n",
       "      <td>0.673159</td>\n",
       "      <td>0.096007</td>\n",
       "      <td>1</td>\n",
       "    </tr>\n",
       "    <tr>\n",
       "      <th>2010-01-15</th>\n",
       "      <td>0.156457</td>\n",
       "      <td>0.160541</td>\n",
       "      <td>0.316306</td>\n",
       "      <td>0.528080</td>\n",
       "      <td>0.109166</td>\n",
       "      <td>1</td>\n",
       "    </tr>\n",
       "    <tr>\n",
       "      <th>2010-01-18</th>\n",
       "      <td>0.175422</td>\n",
       "      <td>0.181819</td>\n",
       "      <td>0.220349</td>\n",
       "      <td>0.407227</td>\n",
       "      <td>0.126111</td>\n",
       "      <td>1</td>\n",
       "    </tr>\n",
       "    <tr>\n",
       "      <th>2010-01-19</th>\n",
       "      <td>0.176844</td>\n",
       "      <td>0.159091</td>\n",
       "      <td>0.153838</td>\n",
       "      <td>0.309931</td>\n",
       "      <td>0.137285</td>\n",
       "      <td>0</td>\n",
       "    </tr>\n",
       "    <tr>\n",
       "      <th>2010-01-20</th>\n",
       "      <td>0.137967</td>\n",
       "      <td>0.146519</td>\n",
       "      <td>0.107666</td>\n",
       "      <td>0.233454</td>\n",
       "      <td>0.144121</td>\n",
       "      <td>0</td>\n",
       "    </tr>\n",
       "    <tr>\n",
       "      <th>2010-01-21</th>\n",
       "      <td>0.137493</td>\n",
       "      <td>0.128143</td>\n",
       "      <td>0.074610</td>\n",
       "      <td>0.174156</td>\n",
       "      <td>0.147724</td>\n",
       "      <td>0</td>\n",
       "    </tr>\n",
       "    <tr>\n",
       "      <th>2010-01-22</th>\n",
       "      <td>0.121373</td>\n",
       "      <td>0.136847</td>\n",
       "      <td>0.051385</td>\n",
       "      <td>0.128783</td>\n",
       "      <td>0.150002</td>\n",
       "      <td>1</td>\n",
       "    </tr>\n",
       "    <tr>\n",
       "      <th>2010-01-25</th>\n",
       "      <td>0.133226</td>\n",
       "      <td>0.117021</td>\n",
       "      <td>0.033795</td>\n",
       "      <td>0.094110</td>\n",
       "      <td>0.146400</td>\n",
       "      <td>0</td>\n",
       "    </tr>\n",
       "  </tbody>\n",
       "</table>\n",
       "</div>"
      ],
      "text/plain": [
       "                Open     Close         K         D       SMA  RISE\n",
       "2010-01-12  0.100986  0.104448  1.000000  1.000000  0.079908     1\n",
       "2010-01-13  0.098616  0.121857  0.676145  0.836476  0.085422     1\n",
       "2010-01-14  0.125166  0.140716  0.460241  0.673159  0.096007     1\n",
       "2010-01-15  0.156457  0.160541  0.316306  0.528080  0.109166     1\n",
       "2010-01-18  0.175422  0.181819  0.220349  0.407227  0.126111     1\n",
       "2010-01-19  0.176844  0.159091  0.153838  0.309931  0.137285     0\n",
       "2010-01-20  0.137967  0.146519  0.107666  0.233454  0.144121     0\n",
       "2010-01-21  0.137493  0.128143  0.074610  0.174156  0.147724     0\n",
       "2010-01-22  0.121373  0.136847  0.051385  0.128783  0.150002     1\n",
       "2010-01-25  0.133226  0.117021  0.033795  0.094110  0.146400     0"
      ]
     },
     "execution_count": 11,
     "metadata": {},
     "output_type": "execute_result"
    }
   ],
   "source": [
    "#minmax_df[:10]"
   ]
  },
  {
   "cell_type": "code",
   "execution_count": 12,
   "metadata": {},
   "outputs": [
    {
     "data": {
      "image/png": "[encoded data removed]",
      "text/plain": [
       "<Figure size 432x288 with 1 Axes>"
      ]
     },
     "metadata": {
      "needs_background": "light"
     },
     "output_type": "display_data"
    }
   ],
   "source": [
    "'''\n",
    "x = minmax_df.index.values\n",
    "y = minmax_df[\"Close\"].values\n",
    "plt.plot(x,y)\n",
    "plt.show()\n",
    "'''"
   ]
  },
  {
   "cell_type": "code",
   "execution_count": 13,
   "metadata": {},
   "outputs": [],
   "source": [
    "#hy parameter\n",
    "torch.manual_seed(1)\n",
    "EPOCH = 10\n",
    "BATCH_SIZE = 16\n",
    "TIME_STEP = 7\n",
    "INPUT_SIZE = 5\n",
    "LR = 0.001"
   ]
  },
  {
   "cell_type": "code",
   "execution_count": 14,
   "metadata": {},
   "outputs": [
    {
     "data": {
      "text/plain": [
       "2283"
      ]
     },
     "execution_count": 14,
     "metadata": {},
     "output_type": "execute_result"
    }
   ],
   "source": [
    "len(minmax_df)"
   ]
  },
  {
   "cell_type": "code",
   "execution_count": 15,
   "metadata": {},
   "outputs": [
    {
     "name": "stdout",
     "output_type": "stream",
     "text": [
      "size of feature:  torch.Size([2276, 7, 5])\n",
      "size of label:  torch.Size([2276])\n"
     ]
    }
   ],
   "source": [
    "# declear training features data\n",
    "features = []\n",
    "for i in range(TIME_STEP,len(minmax_df)):\n",
    "    x = stock_df[i-TIME_STEP:i][[\"Open\",\"Close\",\"K\",\"D\",\"SMA\"]].values\n",
    "    features.append(x.tolist())\n",
    "features = torch.FloatTensor(features)\n",
    "print(\"size of feature: \",features.size())\n",
    "\n",
    "# declear trainging labels data\n",
    "labels = []\n",
    "for i in range(TIME_STEP,len(minmax_df)):\n",
    "    x = minmax_df[i:i+1][\"RISE\"]\n",
    "    labels.append(x.tolist())\n",
    "labels = torch.LongTensor(labels).view(-1)\n",
    "print(\"size of label: \",labels.size())"
   ]
  },
  {
   "cell_type": "code",
   "execution_count": 16,
   "metadata": {},
   "outputs": [],
   "source": [
    "# random select 90% training set index and 10% testing set index \n",
    "\n",
    "x = np.linspace(0,2252,2253).tolist()\n",
    "for i in range(0,2253):\n",
    "    x[i] = int(x[i])\n",
    "\n",
    "np.random.shuffle(x)\n",
    "training, test = x[:2000], x[2000:]\n",
    "test.sort()\n",
    "training.sort()\n",
    "train_features = features[training]\n",
    "train_labels = labels[training]\n",
    "test_features = features[test]\n",
    "test_labels = labels[test]\n"
   ]
  },
  {
   "cell_type": "code",
   "execution_count": 17,
   "metadata": {},
   "outputs": [
    {
     "data": {
      "text/plain": [
       "tensor([[[0.1010, 0.1044, 1.0000, 1.0000, 0.0799],\n",
       "         [0.0986, 0.1219, 0.6761, 0.8365, 0.0854],\n",
       "         [0.1252, 0.1407, 0.4602, 0.6732, 0.0960],\n",
       "         ...,\n",
       "         [0.1754, 0.1818, 0.2203, 0.4072, 0.1261],\n",
       "         [0.1768, 0.1591, 0.1538, 0.3099, 0.1373],\n",
       "         [0.1380, 0.1465, 0.1077, 0.2335, 0.1441]],\n",
       "\n",
       "        [[0.0986, 0.1219, 0.6761, 0.8365, 0.0854],\n",
       "         [0.1252, 0.1407, 0.4602, 0.6732, 0.0960],\n",
       "         [0.1565, 0.1605, 0.3163, 0.5281, 0.1092],\n",
       "         ...,\n",
       "         [0.1768, 0.1591, 0.1538, 0.3099, 0.1373],\n",
       "         [0.1380, 0.1465, 0.1077, 0.2335, 0.1441],\n",
       "         [0.1375, 0.1281, 0.0746, 0.1742, 0.1477]],\n",
       "\n",
       "        [[0.1252, 0.1407, 0.4602, 0.6732, 0.0960],\n",
       "         [0.1565, 0.1605, 0.3163, 0.5281, 0.1092],\n",
       "         [0.1754, 0.1818, 0.2203, 0.4072, 0.1261],\n",
       "         ...,\n",
       "         [0.1380, 0.1465, 0.1077, 0.2335, 0.1441],\n",
       "         [0.1375, 0.1281, 0.0746, 0.1742, 0.1477],\n",
       "         [0.1214, 0.1368, 0.0514, 0.1288, 0.1500]],\n",
       "\n",
       "        ...,\n",
       "\n",
       "        [[0.3262, 0.3207, 0.0015, 0.0021, 0.3532],\n",
       "         [0.3144, 0.3244, 0.0017, 0.0016, 0.3472],\n",
       "         [0.3180, 0.3299, 0.0031, 0.0016, 0.3426],\n",
       "         ...,\n",
       "         [0.3243, 0.3290, 0.0080, 0.0033, 0.3395],\n",
       "         [0.3189, 0.3336, 0.0118, 0.0049, 0.3400],\n",
       "         [0.3280, 0.3327, 0.0145, 0.0067, 0.3398]],\n",
       "\n",
       "        [[0.3144, 0.3244, 0.0017, 0.0016, 0.3472],\n",
       "         [0.3180, 0.3299, 0.0031, 0.0016, 0.3426],\n",
       "         [0.3234, 0.3318, 0.0056, 0.0022, 0.3395],\n",
       "         ...,\n",
       "         [0.3189, 0.3336, 0.0118, 0.0049, 0.3400],\n",
       "         [0.3280, 0.3327, 0.0145, 0.0067, 0.3398],\n",
       "         [0.3289, 0.3299, 0.0145, 0.0078, 0.3412]],\n",
       "\n",
       "        [[0.3180, 0.3299, 0.0031, 0.0016, 0.3426],\n",
       "         [0.3234, 0.3318, 0.0056, 0.0022, 0.3395],\n",
       "         [0.3243, 0.3290, 0.0080, 0.0033, 0.3395],\n",
       "         ...,\n",
       "         [0.3280, 0.3327, 0.0145, 0.0067, 0.3398],\n",
       "         [0.3289, 0.3299, 0.0145, 0.0078, 0.3412],\n",
       "         [0.3262, 0.3345, 0.0174, 0.0093, 0.3427]]])"
      ]
     },
     "execution_count": 17,
     "metadata": {},
     "output_type": "execute_result"
    }
   ],
   "source": [
    "train_features"
   ]
  },
  {
   "cell_type": "code",
   "execution_count": 18,
   "metadata": {},
   "outputs": [],
   "source": [
    "\n",
    "#Mini-Batch\n",
    "\n",
    "torch_dataset = Data.TensorDataset(train_features,train_labels)\n",
    "train_loader = Data.DataLoader(\n",
    "    dataset = torch_dataset,\n",
    "    batch_size = BATCH_SIZE,\n",
    "    num_workers = 2,\n",
    "    shuffle=True,\n",
    ")"
   ]
  },
  {
   "cell_type": "code",
   "execution_count": 19,
   "metadata": {},
   "outputs": [],
   "source": [
    "class Encoder(torch.nn.Module):\n",
    "    def __init__(self):\n",
    "        super(Encoder,self).__init__()\n",
    "        \n",
    "        self.lstm1 = torch.nn.LSTM(\n",
    "            input_size=INPUT_SIZE,\n",
    "            hidden_size=64,\n",
    "            num_layers=1,\n",
    "            batch_first=True,\n",
    "        )\n",
    "        self.lstm2 = torch.nn.LSTM(\n",
    "            input_size=64,\n",
    "            hidden_size=32,\n",
    "            num_layers=1,\n",
    "            batch_first=True,\n",
    "        )\n",
    "        self.lstm3 = torch.nn.LSTM(\n",
    "            input_size=32,\n",
    "            hidden_size=3,\n",
    "            num_layers=1,\n",
    "            batch_first=True,\n",
    "        )\n",
    "        self.relu = torch.nn.ReLU(True)\n",
    "    def forward(self,x):\n",
    "        lstm_out,_ = self.lstm1(x,None)\n",
    "        lstm_out = self.relu(lstm_out)\n",
    "        lstm_out,_ = self.lstm2(lstm_out,None)\n",
    "        lstm_out = self.relu(lstm_out)\n",
    "        lstm_out,_ = self.lstm3(lstm_out,None)\n",
    "        return lstm_out[:,-1,:]\n",
    "        \n",
    "        "
   ]
  },
  {
   "cell_type": "code",
   "execution_count": 20,
   "metadata": {},
   "outputs": [],
   "source": [
    "class Decoder(torch.nn.Module):\n",
    "    def __init__(self):\n",
    "        super(Decoder,self).__init__()\n",
    "        \n",
    "        self.lstm1 = torch.nn.LSTM(\n",
    "            input_size=3,\n",
    "            hidden_size=32,\n",
    "            num_layers=1,\n",
    "            batch_first=True,\n",
    "        )\n",
    "        self.lstm2 = torch.nn.LSTM(\n",
    "            input_size=32,\n",
    "            hidden_size=64,\n",
    "            num_layers=1,\n",
    "            batch_first=True,\n",
    "        )\n",
    "        self.relu = torch.nn.ReLU(True)\n",
    "        self.out = torch.nn.Linear(64,INPUT_SIZE)\n",
    "    def forward(self,x):\n",
    "        lstm_out,_ = self.lstm1(x,None)\n",
    "        lstm_out = self.relu(lstm_out)\n",
    "        lstm_out,_ = self.lstm2(lstm_out,None)\n",
    "        \n",
    "        return self.out(lstm_out)\n",
    "        \n",
    "        "
   ]
  },
  {
   "cell_type": "code",
   "execution_count": 21,
   "metadata": {},
   "outputs": [],
   "source": [
    "class LstmAE(torch.nn.Module):\n",
    "    def __init__(self):\n",
    "        super(LstmAE, self).__init__()\n",
    "        self.encoder = Encoder()\n",
    "        self.decoder = Decoder()\n",
    "    def forward(self, x):\n",
    "        e = self.encoder(x)\n",
    "        e2 = e.view(-1,1,3)\n",
    "        e2 = e2.repeat(1,TIME_STEP,1)\n",
    "        d = self.decoder(e2)\n",
    "        return e,torch.squeeze(d)"
   ]
  },
  {
   "cell_type": "code",
   "execution_count": 22,
   "metadata": {},
   "outputs": [
    {
     "name": "stdout",
     "output_type": "stream",
     "text": [
      "LstmAE(\n",
      "  (encoder): Encoder(\n",
      "    (lstm1): LSTM(5, 64, batch_first=True)\n",
      "    (lstm2): LSTM(64, 32, batch_first=True)\n",
      "    (lstm3): LSTM(32, 3, batch_first=True)\n",
      "    (relu): ReLU(inplace=True)\n",
      "  )\n",
      "  (decoder): Decoder(\n",
      "    (lstm1): LSTM(3, 32, batch_first=True)\n",
      "    (lstm2): LSTM(32, 64, batch_first=True)\n",
      "    (relu): ReLU(inplace=True)\n",
      "    (out): Linear(in_features=64, out_features=5, bias=True)\n",
      "  )\n",
      ")\n"
     ]
    }
   ],
   "source": [
    "model = LstmAE()\n",
    "print(model)"
   ]
  },
  {
   "cell_type": "code",
   "execution_count": 23,
   "metadata": {},
   "outputs": [],
   "source": [
    "# define optimizer and loss function \n",
    "optimizer = torch.optim.Adam(model.parameters(), lr=LR)\n",
    "# adject learning rate . when loss don't fall , lr = lr * factor  , min lr = 0.0001\n",
    "#scheduler = torch.optim.lr_scheduler.ReduceLROnPlateau(optimizer,factor = 0.9,min_lr=0.0001)\n",
    "# crossentroy loss \n",
    "loss_func = torch.nn.MSELoss()"
   ]
  },
  {
   "cell_type": "code",
   "execution_count": 24,
   "metadata": {
    "scrolled": true
   },
   "outputs": [
    {
     "name": "stdout",
     "output_type": "stream",
     "text": [
      "Epoch:    1|steps:   10|Train Avg Loss: 0.1402 \n",
      "Epoch:    1|steps:   20|Train Avg Loss: 0.1026 \n",
      "Epoch:    1|steps:   30|Train Avg Loss: 0.0675 \n",
      "Epoch:    1|steps:   40|Train Avg Loss: 0.0549 \n",
      "Epoch:    1|steps:   50|Train Avg Loss: 0.0510 \n",
      "Epoch:    1|steps:   60|Train Avg Loss: 0.0531 \n",
      "Epoch:    1|steps:   70|Train Avg Loss: 0.0428 \n",
      "Epoch:    1|steps:   80|Train Avg Loss: 0.0458 \n",
      "Epoch:    1|steps:   90|Train Avg Loss: 0.0304 \n",
      "Epoch:    1|steps:  100|Train Avg Loss: 0.0224 \n",
      "Epoch:    1|steps:  110|Train Avg Loss: 0.0164 \n",
      "Epoch:    1|steps:  120|Train Avg Loss: 0.0138 \n",
      "Epoch:    2|steps:   10|Train Avg Loss: 0.0097 \n",
      "Epoch:    2|steps:   20|Train Avg Loss: 0.0076 \n",
      "Epoch:    2|steps:   30|Train Avg Loss: 0.0073 \n",
      "Epoch:    2|steps:   40|Train Avg Loss: 0.0054 \n",
      "Epoch:    2|steps:   50|Train Avg Loss: 0.0035 \n",
      "Epoch:    2|steps:   60|Train Avg Loss: 0.0041 \n",
      "Epoch:    2|steps:   70|Train Avg Loss: 0.0043 \n",
      "Epoch:    2|steps:   80|Train Avg Loss: 0.0034 \n",
      "Epoch:    2|steps:   90|Train Avg Loss: 0.0028 \n",
      "Epoch:    2|steps:  100|Train Avg Loss: 0.0020 \n",
      "Epoch:    2|steps:  110|Train Avg Loss: 0.0021 \n",
      "Epoch:    2|steps:  120|Train Avg Loss: 0.0015 \n",
      "Epoch:    3|steps:   10|Train Avg Loss: 0.0011 \n",
      "Epoch:    3|steps:   20|Train Avg Loss: 0.0008 \n",
      "Epoch:    3|steps:   30|Train Avg Loss: 0.0020 \n",
      "Epoch:    3|steps:   40|Train Avg Loss: 0.0007 \n",
      "Epoch:    3|steps:   50|Train Avg Loss: 0.0007 \n",
      "Epoch:    3|steps:   60|Train Avg Loss: 0.0007 \n",
      "Epoch:    3|steps:   70|Train Avg Loss: 0.0010 \n",
      "Epoch:    3|steps:   80|Train Avg Loss: 0.0008 \n",
      "Epoch:    3|steps:   90|Train Avg Loss: 0.0010 \n",
      "Epoch:    3|steps:  100|Train Avg Loss: 0.0007 \n",
      "Epoch:    3|steps:  110|Train Avg Loss: 0.0008 \n",
      "Epoch:    3|steps:  120|Train Avg Loss: 0.0005 \n",
      "Epoch:    4|steps:   10|Train Avg Loss: 0.0004 \n",
      "Epoch:    4|steps:   20|Train Avg Loss: 0.0004 \n",
      "Epoch:    4|steps:   30|Train Avg Loss: 0.0004 \n",
      "Epoch:    4|steps:   40|Train Avg Loss: 0.0004 \n",
      "Epoch:    4|steps:   50|Train Avg Loss: 0.0004 \n",
      "Epoch:    4|steps:   60|Train Avg Loss: 0.0004 \n",
      "Epoch:    4|steps:   70|Train Avg Loss: 0.0016 \n",
      "Epoch:    4|steps:   80|Train Avg Loss: 0.0004 \n",
      "Epoch:    4|steps:   90|Train Avg Loss: 0.0003 \n",
      "Epoch:    4|steps:  100|Train Avg Loss: 0.0004 \n",
      "Epoch:    4|steps:  110|Train Avg Loss: 0.0005 \n",
      "Epoch:    4|steps:  120|Train Avg Loss: 0.0004 \n",
      "Epoch:    5|steps:   10|Train Avg Loss: 0.0004 \n",
      "Epoch:    5|steps:   20|Train Avg Loss: 0.0004 \n",
      "Epoch:    5|steps:   30|Train Avg Loss: 0.0003 \n",
      "Epoch:    5|steps:   40|Train Avg Loss: 0.0003 \n",
      "Epoch:    5|steps:   50|Train Avg Loss: 0.0004 \n",
      "Epoch:    5|steps:   60|Train Avg Loss: 0.0004 \n",
      "Epoch:    5|steps:   70|Train Avg Loss: 0.0008 \n",
      "Epoch:    5|steps:   80|Train Avg Loss: 0.0011 \n",
      "Epoch:    5|steps:   90|Train Avg Loss: 0.0003 \n",
      "Epoch:    5|steps:  100|Train Avg Loss: 0.0002 \n",
      "Epoch:    5|steps:  110|Train Avg Loss: 0.0003 \n",
      "Epoch:    5|steps:  120|Train Avg Loss: 0.0003 \n",
      "Epoch:    6|steps:   10|Train Avg Loss: 0.0004 \n",
      "Epoch:    6|steps:   20|Train Avg Loss: 0.0011 \n",
      "Epoch:    6|steps:   30|Train Avg Loss: 0.0004 \n",
      "Epoch:    6|steps:   40|Train Avg Loss: 0.0004 \n",
      "Epoch:    6|steps:   50|Train Avg Loss: 0.0003 \n",
      "Epoch:    6|steps:   60|Train Avg Loss: 0.0006 \n",
      "Epoch:    6|steps:   70|Train Avg Loss: 0.0007 \n",
      "Epoch:    6|steps:   80|Train Avg Loss: 0.0003 \n",
      "Epoch:    6|steps:   90|Train Avg Loss: 0.0003 \n",
      "Epoch:    6|steps:  100|Train Avg Loss: 0.0004 \n",
      "Epoch:    6|steps:  110|Train Avg Loss: 0.0004 \n",
      "Epoch:    6|steps:  120|Train Avg Loss: 0.0003 \n",
      "Epoch:    7|steps:   10|Train Avg Loss: 0.0005 \n",
      "Epoch:    7|steps:   20|Train Avg Loss: 0.0007 \n",
      "Epoch:    7|steps:   30|Train Avg Loss: 0.0003 \n",
      "Epoch:    7|steps:   40|Train Avg Loss: 0.0004 \n",
      "Epoch:    7|steps:   50|Train Avg Loss: 0.0003 \n",
      "Epoch:    7|steps:   60|Train Avg Loss: 0.0002 \n",
      "Epoch:    7|steps:   70|Train Avg Loss: 0.0003 \n",
      "Epoch:    7|steps:   80|Train Avg Loss: 0.0003 \n",
      "Epoch:    7|steps:   90|Train Avg Loss: 0.0004 \n",
      "Epoch:    7|steps:  100|Train Avg Loss: 0.0004 \n",
      "Epoch:    7|steps:  110|Train Avg Loss: 0.0003 \n",
      "Epoch:    7|steps:  120|Train Avg Loss: 0.0011 \n",
      "Epoch:    8|steps:   10|Train Avg Loss: 0.0003 \n",
      "Epoch:    8|steps:   20|Train Avg Loss: 0.0003 \n",
      "Epoch:    8|steps:   30|Train Avg Loss: 0.0006 \n",
      "Epoch:    8|steps:   40|Train Avg Loss: 0.0011 \n",
      "Epoch:    8|steps:   50|Train Avg Loss: 0.0003 \n",
      "Epoch:    8|steps:   60|Train Avg Loss: 0.0003 \n",
      "Epoch:    8|steps:   70|Train Avg Loss: 0.0002 \n",
      "Epoch:    8|steps:   80|Train Avg Loss: 0.0007 \n",
      "Epoch:    8|steps:   90|Train Avg Loss: 0.0003 \n",
      "Epoch:    8|steps:  100|Train Avg Loss: 0.0003 \n",
      "Epoch:    8|steps:  110|Train Avg Loss: 0.0002 \n",
      "Epoch:    8|steps:  120|Train Avg Loss: 0.0003 \n",
      "Epoch:    9|steps:   10|Train Avg Loss: 0.0003 \n",
      "Epoch:    9|steps:   20|Train Avg Loss: 0.0005 \n",
      "Epoch:    9|steps:   30|Train Avg Loss: 0.0003 \n",
      "Epoch:    9|steps:   40|Train Avg Loss: 0.0008 \n",
      "Epoch:    9|steps:   50|Train Avg Loss: 0.0003 \n",
      "Epoch:    9|steps:   60|Train Avg Loss: 0.0003 \n",
      "Epoch:    9|steps:   70|Train Avg Loss: 0.0012 \n",
      "Epoch:    9|steps:   80|Train Avg Loss: 0.0003 \n",
      "Epoch:    9|steps:   90|Train Avg Loss: 0.0003 \n",
      "Epoch:    9|steps:  100|Train Avg Loss: 0.0002 \n",
      "Epoch:    9|steps:  110|Train Avg Loss: 0.0002 \n",
      "Epoch:    9|steps:  120|Train Avg Loss: 0.0003 \n",
      "Epoch:   10|steps:   10|Train Avg Loss: 0.0003 \n",
      "Epoch:   10|steps:   20|Train Avg Loss: 0.0002 \n",
      "Epoch:   10|steps:   30|Train Avg Loss: 0.0002 \n",
      "Epoch:   10|steps:   40|Train Avg Loss: 0.0003 \n",
      "Epoch:   10|steps:   50|Train Avg Loss: 0.0003 \n",
      "Epoch:   10|steps:   60|Train Avg Loss: 0.0011 \n",
      "Epoch:   10|steps:   70|Train Avg Loss: 0.0003 \n",
      "Epoch:   10|steps:   80|Train Avg Loss: 0.0002 \n",
      "Epoch:   10|steps:   90|Train Avg Loss: 0.0002 \n",
      "Epoch:   10|steps:  100|Train Avg Loss: 0.0007 \n",
      "Epoch:   10|steps:  110|Train Avg Loss: 0.0003 \n",
      "Epoch:   10|steps:  120|Train Avg Loss: 0.0003 \n"
     ]
    }
   ],
   "source": [
    "'''\n",
    "Training \n",
    "'''\n",
    "LOSS = []\n",
    "for epoch in range(EPOCH):\n",
    "    loss_total = 0\n",
    "    for step,(inputs,targets) in enumerate(train_loader):\n",
    "        inputs = inputs.view(-1,TIME_STEP, INPUT_SIZE)\n",
    "        #reshape the features to (batch,time_step*input_size)\n",
    "        \n",
    "        \n",
    "        # start trainnig \n",
    "        z,output = model(inputs)\n",
    "        \n",
    "        # calculate loss  (cross entroy)\n",
    "        loss = loss_func(output,inputs)\n",
    "        # clear the gradients of all optimized variables(from last training)\n",
    "        optimizer.zero_grad()\n",
    "        \n",
    "        # back propagation\n",
    "        loss.backward()\n",
    "        optimizer.step()\n",
    "        # sum of loss\n",
    "        loss_total = loss_total + loss\n",
    "        \n",
    "        # print training info every 10 steps\n",
    "        if((step+1) %10 == 0):\n",
    "            # average of loss in 10 steps\n",
    "            avg = loss_total / 10\n",
    "            LOSS.append(avg.tolist())\n",
    "            \n",
    "            # print the epoch , steps , average loss , accuracy \n",
    "            print(\"Epoch: %4d|steps: %4d|Train Avg Loss: %.4f \"\n",
    "                  %(epoch+1,step+1,avg))\n",
    "            \n",
    "            # inital variable\n",
    "            loss_total = 0\n",
    "    # updata learning rate\n",
    "    #scheduler.step(loss)\n",
    "        \n"
   ]
  },
  {
   "cell_type": "code",
   "execution_count": 25,
   "metadata": {},
   "outputs": [
    {
     "name": "stdout",
     "output_type": "stream",
     "text": [
      "tensor([[0.3483, 0.3496, 0.0131, 0.0122, 0.3687],\n",
      "        [0.3478, 0.3600, 0.0135, 0.0117, 0.3726],\n",
      "        [0.3497, 0.3587, 0.0128, 0.0108, 0.3720],\n",
      "        [0.3486, 0.3558, 0.0122, 0.0108, 0.3699],\n",
      "        [0.3474, 0.3550, 0.0117, 0.0112, 0.3688],\n",
      "        [0.3463, 0.3549, 0.0115, 0.0116, 0.3681],\n",
      "        [0.3453, 0.3550, 0.0113, 0.0118, 0.3674]], grad_fn=<SelectBackward>)\n",
      "tensor([[0.3437, 0.3491, 0.0177, 0.0142, 0.3571],\n",
      "        [0.3414, 0.3588, 0.0181, 0.0138, 0.3614],\n",
      "        [0.3508, 0.3830, 0.0215, 0.0144, 0.3654],\n",
      "        [0.3793, 0.3854, 0.0213, 0.0147, 0.3713],\n",
      "        [0.3793, 0.3830, 0.0209, 0.0148, 0.3753],\n",
      "        [0.3769, 0.3999, 0.0213, 0.0150, 0.3852],\n",
      "        [0.4030, 0.4047, 0.0221, 0.0153, 0.3948]])\n"
     ]
    }
   ],
   "source": [
    "print(output[0])\n",
    "print(inputs[0])"
   ]
  },
  {
   "cell_type": "code",
   "execution_count": 26,
   "metadata": {},
   "outputs": [
    {
     "ename": "ValueError",
     "evalue": "x and y must have same first dimension, but have shapes (300,) and (120,)",
     "output_type": "error",
     "traceback": [
      "\u001b[1;31m---------------------------------------------------------------------------\u001b[0m",
      "\u001b[1;31mValueError\u001b[0m                                Traceback (most recent call last)",
      "\u001b[1;32m<ipython-input-26-afea36caac86>\u001b[0m in \u001b[0;36m<module>\u001b[1;34m\u001b[0m\n\u001b[0;32m      1\u001b[0m \u001b[0mx\u001b[0m \u001b[1;33m=\u001b[0m \u001b[0mnp\u001b[0m\u001b[1;33m.\u001b[0m\u001b[0mlinspace\u001b[0m\u001b[1;33m(\u001b[0m\u001b[1;36m1\u001b[0m\u001b[1;33m,\u001b[0m\u001b[1;36m300\u001b[0m\u001b[1;33m,\u001b[0m\u001b[1;36m300\u001b[0m\u001b[1;33m)\u001b[0m\u001b[1;33m\u001b[0m\u001b[1;33m\u001b[0m\u001b[0m\n\u001b[0;32m      2\u001b[0m \u001b[0my\u001b[0m \u001b[1;33m=\u001b[0m \u001b[0mnp\u001b[0m\u001b[1;33m.\u001b[0m\u001b[0marray\u001b[0m\u001b[1;33m(\u001b[0m\u001b[0mLOSS\u001b[0m\u001b[1;33m)\u001b[0m\u001b[1;33m\u001b[0m\u001b[1;33m\u001b[0m\u001b[0m\n\u001b[1;32m----> 3\u001b[1;33m \u001b[0mplt\u001b[0m\u001b[1;33m.\u001b[0m\u001b[0mplot\u001b[0m\u001b[1;33m(\u001b[0m\u001b[0mx\u001b[0m\u001b[1;33m,\u001b[0m\u001b[0my\u001b[0m\u001b[1;33m)\u001b[0m\u001b[1;33m\u001b[0m\u001b[1;33m\u001b[0m\u001b[0m\n\u001b[0m\u001b[0;32m      4\u001b[0m \u001b[0mplt\u001b[0m\u001b[1;33m.\u001b[0m\u001b[0mxlabel\u001b[0m\u001b[1;33m(\u001b[0m\u001b[1;34m\"iteration\"\u001b[0m\u001b[1;33m)\u001b[0m\u001b[1;33m\u001b[0m\u001b[1;33m\u001b[0m\u001b[0m\n\u001b[0;32m      5\u001b[0m \u001b[0mplt\u001b[0m\u001b[1;33m.\u001b[0m\u001b[0mylabel\u001b[0m\u001b[1;33m(\u001b[0m\u001b[1;34m\"loss\"\u001b[0m\u001b[1;33m)\u001b[0m\u001b[1;33m\u001b[0m\u001b[1;33m\u001b[0m\u001b[0m\n",
      "\u001b[1;32mD:\\anaconda\\envs\\pytorch\\lib\\site-packages\\matplotlib\\pyplot.py\u001b[0m in \u001b[0;36mplot\u001b[1;34m(scalex, scaley, data, *args, **kwargs)\u001b[0m\n\u001b[0;32m   2794\u001b[0m     return gca().plot(\n\u001b[0;32m   2795\u001b[0m         *args, scalex=scalex, scaley=scaley, **({\"data\": data} if data\n\u001b[1;32m-> 2796\u001b[1;33m         is not None else {}), **kwargs)\n\u001b[0m\u001b[0;32m   2797\u001b[0m \u001b[1;33m\u001b[0m\u001b[0m\n\u001b[0;32m   2798\u001b[0m \u001b[1;33m\u001b[0m\u001b[0m\n",
      "\u001b[1;32mD:\\anaconda\\envs\\pytorch\\lib\\site-packages\\matplotlib\\axes\\_axes.py\u001b[0m in \u001b[0;36mplot\u001b[1;34m(self, scalex, scaley, data, *args, **kwargs)\u001b[0m\n\u001b[0;32m   1663\u001b[0m         \"\"\"\n\u001b[0;32m   1664\u001b[0m         \u001b[0mkwargs\u001b[0m \u001b[1;33m=\u001b[0m \u001b[0mcbook\u001b[0m\u001b[1;33m.\u001b[0m\u001b[0mnormalize_kwargs\u001b[0m\u001b[1;33m(\u001b[0m\u001b[0mkwargs\u001b[0m\u001b[1;33m,\u001b[0m \u001b[0mmlines\u001b[0m\u001b[1;33m.\u001b[0m\u001b[0mLine2D\u001b[0m\u001b[1;33m.\u001b[0m\u001b[0m_alias_map\u001b[0m\u001b[1;33m)\u001b[0m\u001b[1;33m\u001b[0m\u001b[1;33m\u001b[0m\u001b[0m\n\u001b[1;32m-> 1665\u001b[1;33m         \u001b[0mlines\u001b[0m \u001b[1;33m=\u001b[0m \u001b[1;33m[\u001b[0m\u001b[1;33m*\u001b[0m\u001b[0mself\u001b[0m\u001b[1;33m.\u001b[0m\u001b[0m_get_lines\u001b[0m\u001b[1;33m(\u001b[0m\u001b[1;33m*\u001b[0m\u001b[0margs\u001b[0m\u001b[1;33m,\u001b[0m \u001b[0mdata\u001b[0m\u001b[1;33m=\u001b[0m\u001b[0mdata\u001b[0m\u001b[1;33m,\u001b[0m \u001b[1;33m**\u001b[0m\u001b[0mkwargs\u001b[0m\u001b[1;33m)\u001b[0m\u001b[1;33m]\u001b[0m\u001b[1;33m\u001b[0m\u001b[1;33m\u001b[0m\u001b[0m\n\u001b[0m\u001b[0;32m   1666\u001b[0m         \u001b[1;32mfor\u001b[0m \u001b[0mline\u001b[0m \u001b[1;32min\u001b[0m \u001b[0mlines\u001b[0m\u001b[1;33m:\u001b[0m\u001b[1;33m\u001b[0m\u001b[1;33m\u001b[0m\u001b[0m\n\u001b[0;32m   1667\u001b[0m             \u001b[0mself\u001b[0m\u001b[1;33m.\u001b[0m\u001b[0madd_line\u001b[0m\u001b[1;33m(\u001b[0m\u001b[0mline\u001b[0m\u001b[1;33m)\u001b[0m\u001b[1;33m\u001b[0m\u001b[1;33m\u001b[0m\u001b[0m\n",
      "\u001b[1;32mD:\\anaconda\\envs\\pytorch\\lib\\site-packages\\matplotlib\\axes\\_base.py\u001b[0m in \u001b[0;36m__call__\u001b[1;34m(self, *args, **kwargs)\u001b[0m\n\u001b[0;32m    223\u001b[0m                 \u001b[0mthis\u001b[0m \u001b[1;33m+=\u001b[0m \u001b[0margs\u001b[0m\u001b[1;33m[\u001b[0m\u001b[1;36m0\u001b[0m\u001b[1;33m]\u001b[0m\u001b[1;33m,\u001b[0m\u001b[1;33m\u001b[0m\u001b[1;33m\u001b[0m\u001b[0m\n\u001b[0;32m    224\u001b[0m                 \u001b[0margs\u001b[0m \u001b[1;33m=\u001b[0m \u001b[0margs\u001b[0m\u001b[1;33m[\u001b[0m\u001b[1;36m1\u001b[0m\u001b[1;33m:\u001b[0m\u001b[1;33m]\u001b[0m\u001b[1;33m\u001b[0m\u001b[1;33m\u001b[0m\u001b[0m\n\u001b[1;32m--> 225\u001b[1;33m             \u001b[1;32myield\u001b[0m \u001b[1;32mfrom\u001b[0m \u001b[0mself\u001b[0m\u001b[1;33m.\u001b[0m\u001b[0m_plot_args\u001b[0m\u001b[1;33m(\u001b[0m\u001b[0mthis\u001b[0m\u001b[1;33m,\u001b[0m \u001b[0mkwargs\u001b[0m\u001b[1;33m)\u001b[0m\u001b[1;33m\u001b[0m\u001b[1;33m\u001b[0m\u001b[0m\n\u001b[0m\u001b[0;32m    226\u001b[0m \u001b[1;33m\u001b[0m\u001b[0m\n\u001b[0;32m    227\u001b[0m     \u001b[1;32mdef\u001b[0m \u001b[0mget_next_color\u001b[0m\u001b[1;33m(\u001b[0m\u001b[0mself\u001b[0m\u001b[1;33m)\u001b[0m\u001b[1;33m:\u001b[0m\u001b[1;33m\u001b[0m\u001b[1;33m\u001b[0m\u001b[0m\n",
      "\u001b[1;32mD:\\anaconda\\envs\\pytorch\\lib\\site-packages\\matplotlib\\axes\\_base.py\u001b[0m in \u001b[0;36m_plot_args\u001b[1;34m(self, tup, kwargs)\u001b[0m\n\u001b[0;32m    389\u001b[0m             \u001b[0mx\u001b[0m\u001b[1;33m,\u001b[0m \u001b[0my\u001b[0m \u001b[1;33m=\u001b[0m \u001b[0mindex_of\u001b[0m\u001b[1;33m(\u001b[0m\u001b[0mtup\u001b[0m\u001b[1;33m[\u001b[0m\u001b[1;33m-\u001b[0m\u001b[1;36m1\u001b[0m\u001b[1;33m]\u001b[0m\u001b[1;33m)\u001b[0m\u001b[1;33m\u001b[0m\u001b[1;33m\u001b[0m\u001b[0m\n\u001b[0;32m    390\u001b[0m \u001b[1;33m\u001b[0m\u001b[0m\n\u001b[1;32m--> 391\u001b[1;33m         \u001b[0mx\u001b[0m\u001b[1;33m,\u001b[0m \u001b[0my\u001b[0m \u001b[1;33m=\u001b[0m \u001b[0mself\u001b[0m\u001b[1;33m.\u001b[0m\u001b[0m_xy_from_xy\u001b[0m\u001b[1;33m(\u001b[0m\u001b[0mx\u001b[0m\u001b[1;33m,\u001b[0m \u001b[0my\u001b[0m\u001b[1;33m)\u001b[0m\u001b[1;33m\u001b[0m\u001b[1;33m\u001b[0m\u001b[0m\n\u001b[0m\u001b[0;32m    392\u001b[0m \u001b[1;33m\u001b[0m\u001b[0m\n\u001b[0;32m    393\u001b[0m         \u001b[1;32mif\u001b[0m \u001b[0mself\u001b[0m\u001b[1;33m.\u001b[0m\u001b[0mcommand\u001b[0m \u001b[1;33m==\u001b[0m \u001b[1;34m'plot'\u001b[0m\u001b[1;33m:\u001b[0m\u001b[1;33m\u001b[0m\u001b[1;33m\u001b[0m\u001b[0m\n",
      "\u001b[1;32mD:\\anaconda\\envs\\pytorch\\lib\\site-packages\\matplotlib\\axes\\_base.py\u001b[0m in \u001b[0;36m_xy_from_xy\u001b[1;34m(self, x, y)\u001b[0m\n\u001b[0;32m    268\u001b[0m         \u001b[1;32mif\u001b[0m \u001b[0mx\u001b[0m\u001b[1;33m.\u001b[0m\u001b[0mshape\u001b[0m\u001b[1;33m[\u001b[0m\u001b[1;36m0\u001b[0m\u001b[1;33m]\u001b[0m \u001b[1;33m!=\u001b[0m \u001b[0my\u001b[0m\u001b[1;33m.\u001b[0m\u001b[0mshape\u001b[0m\u001b[1;33m[\u001b[0m\u001b[1;36m0\u001b[0m\u001b[1;33m]\u001b[0m\u001b[1;33m:\u001b[0m\u001b[1;33m\u001b[0m\u001b[1;33m\u001b[0m\u001b[0m\n\u001b[0;32m    269\u001b[0m             raise ValueError(\"x and y must have same first dimension, but \"\n\u001b[1;32m--> 270\u001b[1;33m                              \"have shapes {} and {}\".format(x.shape, y.shape))\n\u001b[0m\u001b[0;32m    271\u001b[0m         \u001b[1;32mif\u001b[0m \u001b[0mx\u001b[0m\u001b[1;33m.\u001b[0m\u001b[0mndim\u001b[0m \u001b[1;33m>\u001b[0m \u001b[1;36m2\u001b[0m \u001b[1;32mor\u001b[0m \u001b[0my\u001b[0m\u001b[1;33m.\u001b[0m\u001b[0mndim\u001b[0m \u001b[1;33m>\u001b[0m \u001b[1;36m2\u001b[0m\u001b[1;33m:\u001b[0m\u001b[1;33m\u001b[0m\u001b[1;33m\u001b[0m\u001b[0m\n\u001b[0;32m    272\u001b[0m             raise ValueError(\"x and y can be no greater than 2-D, but have \"\n",
      "\u001b[1;31mValueError\u001b[0m: x and y must have same first dimension, but have shapes (300,) and (120,)"
     ]
    },
    {
     "data": {
      "image/png": "[encoded data removed]",
      "text/plain": [
       "<Figure size 432x288 with 1 Axes>"
      ]
     },
     "metadata": {
      "needs_background": "light"
     },
     "output_type": "display_data"
    }
   ],
   "source": [
    "x = np.linspace(1,300,300)\n",
    "y = np.array(LOSS)\n",
    "plt.plot(x,y)\n",
    "plt.xlabel(\"iteration\")\n",
    "plt.ylabel(\"loss\")\n",
    "plt.show()"
   ]
  },
  {
   "cell_type": "code",
   "execution_count": 27,
   "metadata": {},
   "outputs": [
    {
     "data": {
      "image/png": "[encoded data removed]",
      "text/plain": [
       "<Figure size 432x288 with 1 Axes>"
      ]
     },
     "metadata": {
      "needs_background": "light"
     },
     "output_type": "display_data"
    }
   ],
   "source": [
    "from mpl_toolkits.mplot3d import Axes3D\n",
    "from matplotlib import cm\n",
    "x_train,_ = model(train_features)\n",
    "x_train = x_train.view(-1,3)\n",
    "fig = plt.figure(2)\n",
    "ax = Axes3D(fig)    # 3D 图\n",
    "# x, y, z 的数据值\n",
    "X = x_train.data[:, 0].numpy()\n",
    "Y = x_train.data[:, 1].numpy()\n",
    "Z = x_train.data[:, 2].numpy()\n",
    "values =train_labels.numpy()  # 标签值\n",
    "for x, y, z, s in zip(X, Y, Z, values):\n",
    "    c = cm.rainbow(int(255*s/9))    # 上色\n",
    "    ax.text(x, y, z, s, backgroundcolor=c)  # 标位子\n",
    "ax.set_xlim(X.min(), X.max())\n",
    "ax.set_ylim(Y.min(), Y.max())\n",
    "ax.set_zlim(Z.min(), Z.max())\n",
    "plt.show()"
   ]
  },
  {
   "cell_type": "code",
   "execution_count": null,
   "metadata": {},
   "outputs": [],
   "source": [
    "x_train"
   ]
  },
  {
   "cell_type": "code",
   "execution_count": null,
   "metadata": {},
   "outputs": [],
   "source": [
    "train_labels.shape"
   ]
  },
  {
   "cell_type": "code",
   "execution_count": null,
   "metadata": {},
   "outputs": [],
   "source": [
    "x_train,_ = model(train_features)\n",
    "x_train = x_train.view(-1,3)\n",
    "x_train = x_train.detach().numpy()"
   ]
  },
  {
   "cell_type": "code",
   "execution_count": null,
   "metadata": {},
   "outputs": [],
   "source": [
    "y_train = train_labels.detach().numpy()\n",
    "y_train = y_train.reshape(len(y_train),)\n",
    "print(y_train.shape)"
   ]
  },
  {
   "cell_type": "code",
   "execution_count": null,
   "metadata": {},
   "outputs": [],
   "source": [
    "x_test,_ = model(test_features)\n",
    "x_test = x_test.view(-1,3)\n",
    "x_test = x_test.detach().numpy()"
   ]
  },
  {
   "cell_type": "code",
   "execution_count": null,
   "metadata": {},
   "outputs": [],
   "source": [
    "y_test = test_labels.detach().numpy()\n",
    "y_test = y_test.reshape(len(y_test),)\n",
    "print(y_test.shape)"
   ]
  },
  {
   "cell_type": "code",
   "execution_count": null,
   "metadata": {},
   "outputs": [],
   "source": [
    "train_df = pd.DataFrame(x_train,columns = [\"f1\",\"f2\",\"f3\"])"
   ]
  },
  {
   "cell_type": "code",
   "execution_count": null,
   "metadata": {},
   "outputs": [],
   "source": [
    "train_df[\"label\"] = y_train"
   ]
  },
  {
   "cell_type": "code",
   "execution_count": null,
   "metadata": {},
   "outputs": [],
   "source": [
    "train_df"
   ]
  },
  {
   "cell_type": "code",
   "execution_count": null,
   "metadata": {},
   "outputs": [],
   "source": [
    "test_df = pd.DataFrame(x_test,columns = [\"f1\",\"f2\",\"f3\"])\n",
    "test_df[\"label\"] = y_test"
   ]
  },
  {
   "cell_type": "code",
   "execution_count": null,
   "metadata": {},
   "outputs": [],
   "source": [
    "test_df"
   ]
  },
  {
   "cell_type": "code",
   "execution_count": null,
   "metadata": {},
   "outputs": [],
   "source": [
    "x_train = train_df[[\"f1\",\"f2\",\"f3\"]].values\n",
    "y_train = train_df[[\"label\"]].values"
   ]
  },
  {
   "cell_type": "code",
   "execution_count": null,
   "metadata": {},
   "outputs": [],
   "source": [
    "x_train = torch.FloatTensor(x_train)\n",
    "y_train = torch.LongTensor(y_train).view(-1)"
   ]
  },
  {
   "cell_type": "code",
   "execution_count": null,
   "metadata": {},
   "outputs": [],
   "source": [
    "x_test = test_df[[\"f1\",\"f2\",\"f3\"]].values\n",
    "y_test = test_df[[\"label\"]].values"
   ]
  },
  {
   "cell_type": "code",
   "execution_count": null,
   "metadata": {},
   "outputs": [],
   "source": [
    "x_test = torch.FloatTensor(x_test)\n",
    "y_test = torch.LongTensor(y_test).view(-1)"
   ]
  },
  {
   "cell_type": "code",
   "execution_count": null,
   "metadata": {},
   "outputs": [],
   "source": [
    "#hy parameter\n",
    "torch.manual_seed(1)\n",
    "EPOCH = 10000\n",
    "BATCH_SIZE = 32\n",
    "INPUT_SIZE = 3\n",
    "LR = 0.001"
   ]
  },
  {
   "cell_type": "code",
   "execution_count": null,
   "metadata": {},
   "outputs": [],
   "source": [
    "#Mini-Batch\n",
    "torch_dataset = Data.TensorDataset(x_train,y_train)\n",
    "train_loader = Data.DataLoader(\n",
    "    dataset = torch_dataset,\n",
    "    batch_size = BATCH_SIZE,\n",
    "    num_workers = 2,\n",
    "    shuffle=True,\n",
    ")"
   ]
  },
  {
   "cell_type": "code",
   "execution_count": null,
   "metadata": {},
   "outputs": [],
   "source": [
    "class ANN(torch.nn.Module):\n",
    "    def __init__(self):\n",
    "        super(ANN,self).__init__()\n",
    "        self.hidden1 = torch.nn.Linear(3,32)\n",
    "        self.hidden2 = torch.nn.Linear(32,16)\n",
    "        self.hidden3 = torch.nn.Linear(16,3)\n",
    "    def forward(self,x):\n",
    "        h1_out = self.hidden1(x)\n",
    "        h2_out = self.hidden2(h1_out)\n",
    "        h3_out = self.hidden3(h2_out)\n",
    "        return h3_out\n",
    "    "
   ]
  },
  {
   "cell_type": "code",
   "execution_count": null,
   "metadata": {},
   "outputs": [],
   "source": [
    "ann = ANN()\n",
    "print(ann)"
   ]
  },
  {
   "cell_type": "code",
   "execution_count": null,
   "metadata": {},
   "outputs": [],
   "source": [
    "# define optimizer and loss function \n",
    "optimizer = torch.optim.Adam(model.parameters(), lr=LR,weight_decay=0.0005)\n",
    "# adject learning rate . when loss don't fall , lr = lr * factor  , min lr = 0.0001\n",
    "#scheduler = torch.optim.lr_scheduler.ReduceLROnPlateau(optimizer,factor = 0.9,min_lr=0.0001)\n",
    "# crossentroy loss \n",
    "loss_func = torch.nn.CrossEntropyLoss()"
   ]
  },
  {
   "cell_type": "code",
   "execution_count": null,
   "metadata": {
    "scrolled": true
   },
   "outputs": [],
   "source": [
    "'''\n",
    "Training \n",
    "'''\n",
    "LOSS = []\n",
    "for epoch in range(EPOCH):\n",
    "    loss_total = 0\n",
    "    for step,(inputs,targets) in enumerate(train_loader):\n",
    "       \n",
    "         # start trainnig \n",
    "        output = ann(inputs)\n",
    "        \n",
    "        # calculate loss  (cross entroy)\n",
    "        loss = loss_func(output,targets)\n",
    "        # clear the gradients of all optimized variables(from last training)\n",
    "        optimizer.zero_grad()\n",
    "        \n",
    "        # back propagation\n",
    "        loss.backward()\n",
    "        optimizer.step()\n",
    "        # sum of loss\n",
    "        loss_total = loss_total + loss\n",
    "        \n",
    "        # print training info every 10 steps\n",
    "        if((step+1) %10 == 0):\n",
    "            # average of loss in 10 steps\n",
    "            avg = loss_total / 10\n",
    "            LOSS.append(avg.tolist())\n",
    "            \n",
    "            # print the epoch , steps , average loss , accuracy \n",
    "            print(\"Epoch: %4d|steps: %4d|Train Avg Loss: %.4f \"%(epoch+1,step+1,avg))\n",
    "            \n",
    "            # inital variable\n",
    "            loss_total = 0\n",
    "    # updata learning rate\n",
    "    #scheduler.step(loss)\n",
    "        \n"
   ]
  },
  {
   "cell_type": "code",
   "execution_count": null,
   "metadata": {},
   "outputs": [],
   "source": [
    "targets.shape"
   ]
  },
  {
   "cell_type": "code",
   "execution_count": null,
   "metadata": {},
   "outputs": [],
   "source": [
    "output.shape"
   ]
  },
  {
   "cell_type": "code",
   "execution_count": null,
   "metadata": {},
   "outputs": [],
   "source": []
  },
  {
   "cell_type": "code",
   "execution_count": null,
   "metadata": {},
   "outputs": [],
   "source": []
  }
 ],
 "metadata": {
  "kernelspec": {
   "display_name": "Python 3",
   "language": "python",
   "name": "python3"
  },
  "language_info": {
   "codemirror_mode": {
    "name": "ipython",
    "version": 3
   },
   "file_extension": ".py",
   "mimetype": "text/x-python",
   "name": "python",
   "nbconvert_exporter": "python",
   "pygments_lexer": "ipython3",
   "version": "3.6.10"
  }
 },
 "nbformat": 4,
 "nbformat_minor": 4
}
